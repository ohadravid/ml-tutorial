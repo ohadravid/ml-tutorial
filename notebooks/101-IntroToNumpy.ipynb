{
 "cells": [
  {
   "cell_type": "markdown",
   "metadata": {
    "nbpresent": {
     "id": "6bc410a9-e839-4701-9014-d4e0a06d76f5"
    }
   },
   "source": [
    "## Notebook Is Awesome"
   ]
  },
  {
   "cell_type": "code",
   "execution_count": null,
   "metadata": {
    "collapsed": false,
    "nbpresent": {
     "id": "45fade5b-6375-4828-bf2a-67d8474dab2c"
    }
   },
   "outputs": [],
   "source": []
  },
  {
   "cell_type": "code",
   "execution_count": null,
   "metadata": {
    "collapsed": true,
    "nbpresent": {
     "id": "f3dc0a90-4c10-4731-81c4-ca78e772a01f"
    }
   },
   "outputs": [],
   "source": []
  },
  {
   "cell_type": "code",
   "execution_count": null,
   "metadata": {
    "collapsed": true,
    "nbpresent": {
     "id": "b2da753f-229e-4330-a1b5-a6b1054bc3f9"
    }
   },
   "outputs": [],
   "source": []
  },
  {
   "cell_type": "code",
   "execution_count": null,
   "metadata": {
    "collapsed": true,
    "nbpresent": {
     "id": "c1092c84-9ff3-4e7c-a38c-9da1b3b3dd89"
    }
   },
   "outputs": [],
   "source": []
  },
  {
   "cell_type": "code",
   "execution_count": null,
   "metadata": {
    "collapsed": true,
    "nbpresent": {
     "id": "a975209f-872c-43b4-a34c-d4d45b058a7f"
    }
   },
   "outputs": [],
   "source": []
  },
  {
   "cell_type": "markdown",
   "metadata": {
    "nbpresent": {
     "id": "967c24f8-4301-438c-9112-c321f3354c32"
    }
   },
   "source": [
    "## NumPy is FAST"
   ]
  },
  {
   "cell_type": "markdown",
   "metadata": {
    "nbpresent": {
     "id": "1243171f-c13c-4c7d-842c-5bd9c88443e8"
    }
   },
   "source": [
    "### Basics\n",
    "NumPy is the fundamental package for scientific computing with Python.\n",
    "We get a powerful array object, sophisticated functions, random number capabilities and much more."
   ]
  },
  {
   "cell_type": "code",
   "execution_count": null,
   "metadata": {
    "collapsed": true,
    "nbpresent": {
     "id": "d3a65050-db2c-4774-bf23-a9fe17b315e1"
    }
   },
   "outputs": [],
   "source": [
    "import numpy as np"
   ]
  },
  {
   "cell_type": "markdown",
   "metadata": {
    "nbpresent": {
     "id": "3a428b69-8e46-44d8-81e9-183354bf8926"
    }
   },
   "source": [
    "### Arrays"
   ]
  },
  {
   "cell_type": "code",
   "execution_count": null,
   "metadata": {
    "collapsed": false,
    "nbpresent": {
     "id": "fb236301-a6e8-467c-a554-4d882f1af712"
    }
   },
   "outputs": [],
   "source": [
    "a = np.array([2,3,4])"
   ]
  },
  {
   "cell_type": "code",
   "execution_count": null,
   "metadata": {
    "collapsed": false,
    "nbpresent": {
     "id": "3f2be3ac-9da5-48a1-8996-cee94dd211ac"
    }
   },
   "outputs": [],
   "source": [
    "a"
   ]
  },
  {
   "cell_type": "code",
   "execution_count": null,
   "metadata": {
    "collapsed": false,
    "nbpresent": {
     "id": "88d3cda6-0860-4df8-b6e3-cf35035ffcfd"
    }
   },
   "outputs": [],
   "source": [
    "a.dtype"
   ]
  },
  {
   "cell_type": "code",
   "execution_count": null,
   "metadata": {
    "collapsed": true,
    "nbpresent": {
     "id": "e97652a5-1c03-41a1-923a-78de163d1f9f"
    }
   },
   "outputs": [],
   "source": []
  },
  {
   "cell_type": "code",
   "execution_count": null,
   "metadata": {
    "collapsed": true,
    "nbpresent": {
     "id": "ac47522a-c996-41d2-b175-bdbb49b3adce"
    }
   },
   "outputs": [],
   "source": []
  },
  {
   "cell_type": "code",
   "execution_count": null,
   "metadata": {
    "collapsed": false,
    "nbpresent": {
     "id": "dc5e936f-e92e-4923-89f9-5545bf824943"
    }
   },
   "outputs": [],
   "source": [
    "a * 6"
   ]
  },
  {
   "cell_type": "code",
   "execution_count": null,
   "metadata": {
    "collapsed": true,
    "nbpresent": {
     "id": "0065d040-3bae-49c9-84b8-a05d093cf8fe"
    }
   },
   "outputs": [],
   "source": []
  },
  {
   "cell_type": "code",
   "execution_count": null,
   "metadata": {
    "collapsed": true,
    "nbpresent": {
     "id": "684c5872-0b88-4a8f-b9b1-0014e0fb53ad"
    }
   },
   "outputs": [],
   "source": []
  },
  {
   "cell_type": "code",
   "execution_count": null,
   "metadata": {
    "collapsed": false,
    "nbpresent": {
     "id": "7796fc5b-1d46-4336-99b8-ea2cc6b47614"
    },
    "scrolled": true
   },
   "outputs": [],
   "source": [
    "a >= 3"
   ]
  },
  {
   "cell_type": "code",
   "execution_count": null,
   "metadata": {
    "collapsed": true,
    "nbpresent": {
     "id": "2f3a5ac0-41d0-4ac6-b688-935467cc06b1"
    }
   },
   "outputs": [],
   "source": []
  },
  {
   "cell_type": "code",
   "execution_count": null,
   "metadata": {
    "collapsed": true,
    "nbpresent": {
     "id": "b7804b11-66f1-43da-af19-42628d45f101"
    }
   },
   "outputs": [],
   "source": []
  },
  {
   "cell_type": "markdown",
   "metadata": {
    "collapsed": true,
    "nbpresent": {
     "id": "94127012-0dde-4565-81c0-cb8682699789"
    }
   },
   "source": [
    "### Multidimensional Arrays"
   ]
  },
  {
   "cell_type": "code",
   "execution_count": null,
   "metadata": {
    "collapsed": true,
    "nbpresent": {
     "id": "3d2012ce-64b5-4be0-af8b-bf94abd66e06"
    }
   },
   "outputs": [],
   "source": [
    "m = np.array([[1, 0, 0],\n",
    "              [0, 1, 0],\n",
    "              [0, 0, 1]])"
   ]
  },
  {
   "cell_type": "code",
   "execution_count": null,
   "metadata": {
    "collapsed": true,
    "nbpresent": {
     "id": "a46f8917-7900-44ac-9917-97d840619320"
    }
   },
   "outputs": [],
   "source": []
  },
  {
   "cell_type": "code",
   "execution_count": null,
   "metadata": {
    "collapsed": true,
    "nbpresent": {
     "id": "e1d5066e-5513-4c66-9dc3-f560b129017f"
    }
   },
   "outputs": [],
   "source": []
  },
  {
   "cell_type": "code",
   "execution_count": null,
   "metadata": {
    "collapsed": false,
    "nbpresent": {
     "id": "5103283a-f5ef-4cc8-aaab-ed72a69aaa36"
    }
   },
   "outputs": [],
   "source": [
    "m"
   ]
  },
  {
   "cell_type": "code",
   "execution_count": null,
   "metadata": {
    "collapsed": true,
    "nbpresent": {
     "id": "ffc1a43c-ba04-4f0c-91fd-2c0a7a855cb1"
    }
   },
   "outputs": [],
   "source": []
  },
  {
   "cell_type": "code",
   "execution_count": null,
   "metadata": {
    "collapsed": true,
    "nbpresent": {
     "id": "463b8a6d-47cf-4b63-8b42-5681896c5e20"
    }
   },
   "outputs": [],
   "source": []
  },
  {
   "cell_type": "code",
   "execution_count": null,
   "metadata": {
    "collapsed": false,
    "nbpresent": {
     "id": "3dba32f6-bfcd-4649-bae1-6aac1ddf5515"
    }
   },
   "outputs": [],
   "source": [
    "m * 5"
   ]
  },
  {
   "cell_type": "code",
   "execution_count": null,
   "metadata": {
    "collapsed": true,
    "nbpresent": {
     "id": "732841a6-32af-408e-bcbc-508db9eac8ed"
    }
   },
   "outputs": [],
   "source": []
  },
  {
   "cell_type": "code",
   "execution_count": null,
   "metadata": {
    "collapsed": true,
    "nbpresent": {
     "id": "c672bf78-e4aa-4795-b9a2-9afcc9c14be3"
    }
   },
   "outputs": [],
   "source": []
  },
  {
   "cell_type": "code",
   "execution_count": null,
   "metadata": {
    "collapsed": false,
    "nbpresent": {
     "id": "eff38777-cbd0-4fc5-81bb-31b2b4f52639"
    }
   },
   "outputs": [],
   "source": [
    "m[0]"
   ]
  },
  {
   "cell_type": "code",
   "execution_count": null,
   "metadata": {
    "collapsed": true,
    "nbpresent": {
     "id": "8fd5deb2-b83e-4709-aebd-a74b938992fd"
    }
   },
   "outputs": [],
   "source": []
  },
  {
   "cell_type": "code",
   "execution_count": null,
   "metadata": {
    "collapsed": true,
    "nbpresent": {
     "id": "42f828bf-bced-4e78-961f-d550c39bea97"
    }
   },
   "outputs": [],
   "source": []
  },
  {
   "cell_type": "code",
   "execution_count": null,
   "metadata": {
    "collapsed": false,
    "nbpresent": {
     "id": "38e20161-40dc-40e7-97f3-1d3f6125ec94"
    }
   },
   "outputs": [],
   "source": [
    "m[:, 1]"
   ]
  },
  {
   "cell_type": "code",
   "execution_count": null,
   "metadata": {
    "collapsed": false,
    "nbpresent": {
     "id": "25570833-b3c2-4abf-932e-920cd695a6a4"
    }
   },
   "outputs": [],
   "source": []
  },
  {
   "cell_type": "code",
   "execution_count": null,
   "metadata": {
    "collapsed": true,
    "nbpresent": {
     "id": "b8c078f2-0269-4a6e-8f66-ffac6f3c4c0f"
    }
   },
   "outputs": [],
   "source": []
  },
  {
   "cell_type": "markdown",
   "metadata": {
    "nbpresent": {
     "id": "dc3564ea-2bdf-4a86-b827-fe0c6fdf0aca"
    }
   },
   "source": [
    "### Utilits"
   ]
  },
  {
   "cell_type": "code",
   "execution_count": null,
   "metadata": {
    "collapsed": false,
    "nbpresent": {
     "id": "8315a9e8-1fbe-45e7-8a22-8bdcd60844b8"
    }
   },
   "outputs": [],
   "source": [
    "np.linspace(0, 1, 9)  "
   ]
  },
  {
   "cell_type": "code",
   "execution_count": null,
   "metadata": {
    "collapsed": true,
    "nbpresent": {
     "id": "1257f359-7cd6-439f-a1ce-1a79a8017ac8"
    }
   },
   "outputs": [],
   "source": []
  },
  {
   "cell_type": "code",
   "execution_count": null,
   "metadata": {
    "collapsed": true,
    "nbpresent": {
     "id": "8158fb57-a479-4bad-8ab8-426c271cea89"
    }
   },
   "outputs": [],
   "source": []
  },
  {
   "cell_type": "code",
   "execution_count": null,
   "metadata": {
    "collapsed": false,
    "nbpresent": {
     "id": "939fea79-492d-4d73-b09b-b49fdae2ff76"
    }
   },
   "outputs": [],
   "source": [
    "np.zeros([3,3])"
   ]
  },
  {
   "cell_type": "code",
   "execution_count": null,
   "metadata": {
    "collapsed": true,
    "nbpresent": {
     "id": "00ea93cc-aee5-4924-9bbc-330934674bb2"
    }
   },
   "outputs": [],
   "source": []
  },
  {
   "cell_type": "code",
   "execution_count": null,
   "metadata": {
    "collapsed": true,
    "nbpresent": {
     "id": "a317bcb5-f624-4a30-8359-7249ee8cc3a6"
    }
   },
   "outputs": [],
   "source": []
  },
  {
   "cell_type": "markdown",
   "metadata": {
    "nbpresent": {
     "id": "a11cb52c-4ca4-4290-a5e0-e6f702e706a2"
    }
   },
   "source": [
    "### Fast"
   ]
  },
  {
   "cell_type": "code",
   "execution_count": null,
   "metadata": {
    "collapsed": false,
    "nbpresent": {
     "id": "a7ddf8c4-c2de-428e-ae9f-680c65a3b4f8"
    }
   },
   "outputs": [],
   "source": [
    "a = np.arange(0, 2 ** 20)  "
   ]
  },
  {
   "cell_type": "code",
   "execution_count": null,
   "metadata": {
    "collapsed": true,
    "nbpresent": {
     "id": "dfc1c8f4-057c-4004-b238-e077f3c916a7"
    }
   },
   "outputs": [],
   "source": [
    "l = range(0, 2 ** 20)"
   ]
  },
  {
   "cell_type": "code",
   "execution_count": null,
   "metadata": {
    "collapsed": false,
    "nbpresent": {
     "id": "505fe409-659d-4114-868a-127ee1a00021"
    }
   },
   "outputs": [],
   "source": [
    "len(a), len(l)"
   ]
  },
  {
   "cell_type": "code",
   "execution_count": null,
   "metadata": {
    "collapsed": true
   },
   "outputs": [],
   "source": []
  },
  {
   "cell_type": "code",
   "execution_count": null,
   "metadata": {
    "collapsed": false
   },
   "outputs": [],
   "source": [
    "a"
   ]
  },
  {
   "cell_type": "code",
   "execution_count": null,
   "metadata": {
    "collapsed": true,
    "nbpresent": {
     "id": "85f0281b-fa8f-4393-a074-b28821ebd6ae"
    }
   },
   "outputs": [],
   "source": []
  },
  {
   "cell_type": "code",
   "execution_count": null,
   "metadata": {
    "collapsed": false,
    "nbpresent": {
     "id": "76ac7d63-629c-4616-8aee-56e82d58bcb8"
    }
   },
   "outputs": [],
   "source": [
    "a * a"
   ]
  },
  {
   "cell_type": "code",
   "execution_count": null,
   "metadata": {
    "collapsed": true,
    "nbpresent": {
     "id": "fbc063c8-05b9-4bba-9e8a-895edc5a786e"
    }
   },
   "outputs": [],
   "source": []
  },
  {
   "cell_type": "code",
   "execution_count": null,
   "metadata": {
    "collapsed": false,
    "nbpresent": {
     "id": "f030ed67-9d26-4409-9f3c-acbe2e4670da"
    }
   },
   "outputs": [],
   "source": [
    "%%timeit -n 3\n",
    "[i*i for i in l]"
   ]
  },
  {
   "cell_type": "code",
   "execution_count": null,
   "metadata": {
    "collapsed": false,
    "nbpresent": {
     "id": "c88c22d1-0218-45e0-a950-71b5605863f5"
    }
   },
   "outputs": [],
   "source": [
    "%%timeit -n 100\n",
    "a * a"
   ]
  },
  {
   "cell_type": "code",
   "execution_count": null,
   "metadata": {
    "collapsed": true,
    "nbpresent": {
     "id": "04e03bd1-3941-49e2-b7b2-6017a13fff80"
    }
   },
   "outputs": [],
   "source": []
  },
  {
   "cell_type": "code",
   "execution_count": null,
   "metadata": {
    "collapsed": false,
    "nbpresent": {
     "id": "e27aca4d-9b33-45f5-8291-72d9bdaa60ba"
    }
   },
   "outputs": [],
   "source": []
  }
 ],
 "metadata": {
  "anaconda-cloud": {},
  "kernelspec": {
   "display_name": "Python [Root]",
   "language": "python",
   "name": "Python [Root]"
  },
  "language_info": {
   "codemirror_mode": {
    "name": "ipython",
    "version": 2
   },
   "file_extension": ".py",
   "mimetype": "text/x-python",
   "name": "python",
   "nbconvert_exporter": "python",
   "pygments_lexer": "ipython2",
   "version": "2.7.11"
  },
  "nbpresent": {
   "slides": {
    "146019d5-d9c6-41b6-a19a-8675a21feb50": {
     "id": "146019d5-d9c6-41b6-a19a-8675a21feb50",
     "prev": "7d41506f-efcb-4c69-881e-a99f9947f281",
     "regions": {
      "3aefaba4-5e41-42eb-8951-02a252439eef": {
       "attrs": {
        "height": 0.8,
        "width": 0.8,
        "x": 0.1,
        "y": 0.1
       },
       "content": {
        "cell": "85f0281b-fa8f-4393-a074-b28821ebd6ae",
        "part": "whole"
       },
       "id": "3aefaba4-5e41-42eb-8951-02a252439eef"
      }
     }
    },
    "164f46e1-e154-44da-9d75-12877f73e3e3": {
     "id": "164f46e1-e154-44da-9d75-12877f73e3e3",
     "prev": "eb8e0c35-e0be-4276-8f04-7021087adcc3",
     "regions": {
      "289af9b1-fc10-4e1d-bdac-0a61900f526d": {
       "attrs": {
        "height": 0.8,
        "width": 0.8,
        "x": 0.1,
        "y": 0.1
       },
       "content": {
        "cell": "f3dc0a90-4c10-4731-81c4-ca78e772a01f",
        "part": "whole"
       },
       "id": "289af9b1-fc10-4e1d-bdac-0a61900f526d"
      }
     }
    },
    "2e1a0672-966e-4df4-a053-80fe46d36635": {
     "id": "2e1a0672-966e-4df4-a053-80fe46d36635",
     "prev": "a7cc6a57-a1a4-487d-ba68-50042079078c",
     "regions": {
      "926d5e60-272d-4f5b-9aa1-267f3e220376": {
       "attrs": {
        "height": 0.8,
        "width": 0.8,
        "x": 0.1,
        "y": 0.1
       },
       "content": {
        "cell": "e27aca4d-9b33-45f5-8291-72d9bdaa60ba",
        "part": "whole"
       },
       "id": "926d5e60-272d-4f5b-9aa1-267f3e220376"
      }
     }
    },
    "2e5894c1-6820-4181-ad85-c5e24e1bbbd0": {
     "id": "2e5894c1-6820-4181-ad85-c5e24e1bbbd0",
     "prev": "d8c6510f-bf60-4b1b-a75f-4a51d116ac29",
     "regions": {
      "b807b141-6ab9-41b6-accc-d03a7e9f655c": {
       "attrs": {
        "height": 0.8,
        "width": 0.8,
        "x": 0.1,
        "y": 0.1
       },
       "content": {
        "cell": "c88c22d1-0218-45e0-a950-71b5605863f5",
        "part": "whole"
       },
       "id": "b807b141-6ab9-41b6-accc-d03a7e9f655c"
      }
     }
    },
    "33b47535-827d-448e-b67c-336c83043d96": {
     "id": "33b47535-827d-448e-b67c-336c83043d96",
     "prev": "7fee6fc7-2b89-47ef-becd-db04f9f9bfa2",
     "regions": {
      "ce310332-53a0-4959-9d47-41c7fa4b8860": {
       "attrs": {
        "height": 0.8,
        "width": 0.8,
        "x": 0.1,
        "y": 0.1
       },
       "content": {
        "cell": "c1092c84-9ff3-4e7c-a38c-9da1b3b3dd89",
        "part": "whole"
       },
       "id": "ce310332-53a0-4959-9d47-41c7fa4b8860"
      }
     }
    },
    "354b1610-8119-46ae-abb8-9d518050801c": {
     "id": "354b1610-8119-46ae-abb8-9d518050801c",
     "prev": "b77ad474-eef1-4c9f-ac23-f878c753eafc",
     "regions": {
      "3b23cde4-48c6-4e05-891a-4102b78f29b5": {
       "attrs": {
        "height": 0.8,
        "width": 0.8,
        "x": 0.1,
        "y": 0.1
       },
       "content": {
        "cell": "38e20161-40dc-40e7-97f3-1d3f6125ec94",
        "part": "whole"
       },
       "id": "3b23cde4-48c6-4e05-891a-4102b78f29b5"
      }
     }
    },
    "3b0296c6-5b04-4d6b-8d6f-41ba5d1a4482": {
     "id": "3b0296c6-5b04-4d6b-8d6f-41ba5d1a4482",
     "prev": "d75f42f4-0ebc-48fe-be42-6489004da44b",
     "regions": {
      "1b636948-eb04-415f-a08c-539e7e4ac222": {
       "attrs": {
        "height": 0.8,
        "width": 0.8,
        "x": 0.1,
        "y": 0.1
       },
       "content": {
        "cell": "a11cb52c-4ca4-4290-a5e0-e6f702e706a2",
        "part": "whole"
       },
       "id": "1b636948-eb04-415f-a08c-539e7e4ac222"
      }
     }
    },
    "3b154818-cab6-4c9d-84b4-13897c18de71": {
     "id": "3b154818-cab6-4c9d-84b4-13897c18de71",
     "prev": "5712eb29-51d8-4d9c-95d2-e1054be1cbba",
     "regions": {
      "3589b496-60b1-44d9-906e-8d90a7854c3c": {
       "attrs": {
        "height": 0.8,
        "width": 0.8,
        "x": 0.1,
        "y": 0.1
       },
       "content": {
        "cell": "967c24f8-4301-438c-9112-c321f3354c32",
        "part": "whole"
       },
       "id": "3589b496-60b1-44d9-906e-8d90a7854c3c"
      }
     }
    },
    "3e4a7a4a-fc19-4bce-98c8-e3a15f9371e1": {
     "id": "3e4a7a4a-fc19-4bce-98c8-e3a15f9371e1",
     "prev": "e4cb1bf8-6eda-4d07-8d8f-4f28cc52d188",
     "regions": {
      "a6d4ddf1-16cf-4338-9baf-95f505efba1e": {
       "attrs": {
        "height": 0.8,
        "width": 0.8,
        "x": 0.1,
        "y": 0.1
       },
       "content": {
        "cell": "fb236301-a6e8-467c-a554-4d882f1af712",
        "part": "whole"
       },
       "id": "a6d4ddf1-16cf-4338-9baf-95f505efba1e"
      }
     }
    },
    "3f00485b-004a-465e-8e25-703786bf2ea6": {
     "id": "3f00485b-004a-465e-8e25-703786bf2ea6",
     "prev": "3e4a7a4a-fc19-4bce-98c8-e3a15f9371e1",
     "regions": {
      "2dcfa86f-39a0-45e0-91cc-ef4f8c87e6f9": {
       "attrs": {
        "height": 0.8,
        "width": 0.8,
        "x": 0.1,
        "y": 0.1
       },
       "content": {
        "cell": "3f2be3ac-9da5-48a1-8996-cee94dd211ac",
        "part": "whole"
       },
       "id": "2dcfa86f-39a0-45e0-91cc-ef4f8c87e6f9"
      }
     }
    },
    "41f7cb7d-21f3-4136-a15e-ab028b1a1c0e": {
     "id": "41f7cb7d-21f3-4136-a15e-ab028b1a1c0e",
     "prev": "dc4e8f8d-e4a7-45d9-8610-7ed11f448509",
     "regions": {
      "c97d61de-33e9-43b2-b375-15f008aaf81f": {
       "attrs": {
        "height": 0.8,
        "width": 0.8,
        "x": 0.1,
        "y": 0.1
       },
       "content": {
        "cell": "e97652a5-1c03-41a1-923a-78de163d1f9f",
        "part": "whole"
       },
       "id": "c97d61de-33e9-43b2-b375-15f008aaf81f"
      }
     }
    },
    "42a910a1-2fb2-4744-bcf3-3ff9ba5c8776": {
     "id": "42a910a1-2fb2-4744-bcf3-3ff9ba5c8776",
     "prev": "f89d686b-7bb8-4ca5-a3e4-5b8bcfcb10f8",
     "regions": {
      "23d86f9f-f2a9-4c1a-bf44-56aa471df907": {
       "attrs": {
        "height": 0.8,
        "width": 0.8,
        "x": 0.1,
        "y": 0.1
       },
       "content": {
        "cell": "fbc063c8-05b9-4bba-9e8a-895edc5a786e",
        "part": "whole"
       },
       "id": "23d86f9f-f2a9-4c1a-bf44-56aa471df907"
      }
     }
    },
    "46dea4ba-a9e3-463e-978f-4610d09de2ad": {
     "id": "46dea4ba-a9e3-463e-978f-4610d09de2ad",
     "prev": "d76c096d-e2ad-4230-a9a2-1eb0e29670a9",
     "regions": {
      "407b03c5-e982-4fd8-9792-5bd9d00af5dd": {
       "attrs": {
        "height": 0.8,
        "width": 0.8,
        "x": 0.1,
        "y": 0.1
       },
       "content": {
        "cell": "8158fb57-a479-4bad-8ab8-426c271cea89",
        "part": "whole"
       },
       "id": "407b03c5-e982-4fd8-9792-5bd9d00af5dd"
      }
     }
    },
    "558b67c6-1e03-4bac-8032-41ca4c61e7a1": {
     "id": "558b67c6-1e03-4bac-8032-41ca4c61e7a1",
     "prev": "a5d3f10a-79c8-4fd0-9b1c-a709b0d8ce67",
     "regions": {
      "dbb831e6-96e3-4e16-8d7b-89974e470e50": {
       "attrs": {
        "height": 0.8,
        "width": 0.8,
        "x": 0.1,
        "y": 0.1
       },
       "content": {
        "cell": "dc5e936f-e92e-4923-89f9-5545bf824943",
        "part": "whole"
       },
       "id": "dbb831e6-96e3-4e16-8d7b-89974e470e50"
      }
     }
    },
    "5712eb29-51d8-4d9c-95d2-e1054be1cbba": {
     "id": "5712eb29-51d8-4d9c-95d2-e1054be1cbba",
     "prev": "33b47535-827d-448e-b67c-336c83043d96",
     "regions": {
      "14aea73e-55f2-4d25-9b3e-4fa3cce02490": {
       "attrs": {
        "height": 0.8,
        "width": 0.8,
        "x": 0.1,
        "y": 0.1
       },
       "content": {
        "cell": "a975209f-872c-43b4-a34c-d4d45b058a7f",
        "part": "whole"
       },
       "id": "14aea73e-55f2-4d25-9b3e-4fa3cce02490"
      }
     }
    },
    "5c9c2471-0958-4f94-92d4-0c8813985d5d": {
     "id": "5c9c2471-0958-4f94-92d4-0c8813985d5d",
     "prev": null,
     "regions": {
      "c1a534f7-c6ea-4dd0-8c4d-9fb81305700e": {
       "attrs": {
        "height": 0.8,
        "width": 0.8,
        "x": 0.1,
        "y": 0.1
       },
       "content": {
        "cell": "6bc410a9-e839-4701-9014-d4e0a06d76f5",
        "part": "whole"
       },
       "id": "c1a534f7-c6ea-4dd0-8c4d-9fb81305700e"
      }
     }
    },
    "5eea99bd-c6b1-4739-846b-585d86fb2d41": {
     "id": "5eea99bd-c6b1-4739-846b-585d86fb2d41",
     "prev": "3b0296c6-5b04-4d6b-8d6f-41ba5d1a4482",
     "regions": {
      "bd1c39fe-6f9a-4765-beeb-f54dce3813b9": {
       "attrs": {
        "height": 0.8,
        "width": 0.8,
        "x": 0.1,
        "y": 0.1
       },
       "content": {
        "cell": "a7ddf8c4-c2de-428e-ae9f-680c65a3b4f8",
        "part": "whole"
       },
       "id": "bd1c39fe-6f9a-4765-beeb-f54dce3813b9"
      }
     }
    },
    "5fefb984-d1d0-45cf-8ec2-1314e2368f13": {
     "id": "5fefb984-d1d0-45cf-8ec2-1314e2368f13",
     "prev": "7aa2112e-39c9-42ef-93ca-218009cb9945",
     "regions": {
      "0e77489d-5ac8-44b8-be92-8cdc8b2cc28f": {
       "attrs": {
        "height": 0.8,
        "width": 0.8,
        "x": 0.1,
        "y": 0.1
       },
       "content": {
        "cell": "3dba32f6-bfcd-4649-bae1-6aac1ddf5515",
        "part": "whole"
       },
       "id": "0e77489d-5ac8-44b8-be92-8cdc8b2cc28f"
      }
     }
    },
    "7708ebbd-971a-4bdc-8d1d-a91ee70a6b0b": {
     "id": "7708ebbd-971a-4bdc-8d1d-a91ee70a6b0b",
     "prev": "e10129e0-769c-4c33-a4de-8e923ce505e4",
     "regions": {
      "ec2a739d-eaea-4b8a-8989-e14739faf6a6": {
       "attrs": {
        "height": 0.8,
        "width": 0.8,
        "x": 0.1,
        "y": 0.1
       },
       "content": {
        "cell": "dc3564ea-2bdf-4a86-b827-fe0c6fdf0aca",
        "part": "whole"
       },
       "id": "ec2a739d-eaea-4b8a-8989-e14739faf6a6"
      }
     }
    },
    "7aa2112e-39c9-42ef-93ca-218009cb9945": {
     "id": "7aa2112e-39c9-42ef-93ca-218009cb9945",
     "prev": "93485a7a-a8a1-4655-8e7c-abb51bd22538",
     "regions": {
      "2dd75856-9b7f-4732-b5ef-064cb14fa24b": {
       "attrs": {
        "height": 0.8,
        "width": 0.8,
        "x": 0.1,
        "y": 0.1
       },
       "content": {
        "cell": "463b8a6d-47cf-4b63-8b42-5681896c5e20",
        "part": "whole"
       },
       "id": "2dd75856-9b7f-4732-b5ef-064cb14fa24b"
      }
     }
    },
    "7d41506f-efcb-4c69-881e-a99f9947f281": {
     "id": "7d41506f-efcb-4c69-881e-a99f9947f281",
     "prev": "a8d5e8ac-01a3-4414-825d-9c9a558274eb",
     "regions": {
      "df87b82f-0d9a-4fbf-9776-72eb085659ff": {
       "attrs": {
        "height": 0.8,
        "width": 0.8,
        "x": 0.1,
        "y": 0.1
       },
       "content": {
        "cell": "505fe409-659d-4114-868a-127ee1a00021",
        "part": "whole"
       },
       "id": "df87b82f-0d9a-4fbf-9776-72eb085659ff"
      }
     }
    },
    "7fee6fc7-2b89-47ef-becd-db04f9f9bfa2": {
     "id": "7fee6fc7-2b89-47ef-becd-db04f9f9bfa2",
     "prev": "164f46e1-e154-44da-9d75-12877f73e3e3",
     "regions": {
      "62f17015-02e4-4b12-9e9d-e234d48b8464": {
       "attrs": {
        "height": 0.8,
        "width": 0.8,
        "x": 0.1,
        "y": 0.1
       },
       "content": {
        "cell": "b2da753f-229e-4330-a1b5-a6b1054bc3f9",
        "part": "whole"
       },
       "id": "62f17015-02e4-4b12-9e9d-e234d48b8464"
      }
     }
    },
    "83361870-abc5-4159-adac-61f127e3356a": {
     "id": "83361870-abc5-4159-adac-61f127e3356a",
     "prev": "46dea4ba-a9e3-463e-978f-4610d09de2ad",
     "regions": {
      "40117de5-bdfb-41a9-aa80-b23b7463fc90": {
       "attrs": {
        "height": 0.8,
        "width": 0.8,
        "x": 0.1,
        "y": 0.1
       },
       "content": {
        "cell": "939fea79-492d-4d73-b09b-b49fdae2ff76",
        "part": "whole"
       },
       "id": "40117de5-bdfb-41a9-aa80-b23b7463fc90"
      }
     }
    },
    "846fb540-3372-4e24-a790-41ea1cd47d4e": {
     "id": "846fb540-3372-4e24-a790-41ea1cd47d4e",
     "prev": "87cc63f8-452b-43d0-8ab0-f3184933256f",
     "regions": {
      "1079ba12-8073-45c1-9575-b16e8655a04d": {
       "attrs": {
        "height": 0.8,
        "width": 0.8,
        "x": 0.1,
        "y": 0.1
       },
       "content": {
        "cell": "8fd5deb2-b83e-4709-aebd-a74b938992fd",
        "part": "whole"
       },
       "id": "1079ba12-8073-45c1-9575-b16e8655a04d"
      }
     }
    },
    "87cc63f8-452b-43d0-8ab0-f3184933256f": {
     "id": "87cc63f8-452b-43d0-8ab0-f3184933256f",
     "prev": "e2baec85-ad6c-47e4-b0b7-b33be4ecd142",
     "regions": {
      "bad55363-09f4-465f-be0c-cd15f39acf11": {
       "attrs": {
        "height": 0.8,
        "width": 0.8,
        "x": 0.1,
        "y": 0.1
       },
       "content": {
        "cell": "eff38777-cbd0-4fc5-81bb-31b2b4f52639",
        "part": "whole"
       },
       "id": "bad55363-09f4-465f-be0c-cd15f39acf11"
      }
     }
    },
    "8ad53d1d-2385-44b3-ba7d-6dd71d3c056f": {
     "id": "8ad53d1d-2385-44b3-ba7d-6dd71d3c056f",
     "prev": "558b67c6-1e03-4bac-8032-41ca4c61e7a1",
     "regions": {
      "db1c86e5-bccb-457e-bdb1-1f0fc70d6e9f": {
       "attrs": {
        "height": 0.8,
        "width": 0.8,
        "x": 0.1,
        "y": 0.1
       },
       "content": {
        "cell": "0065d040-3bae-49c9-84b8-a05d093cf8fe",
        "part": "whole"
       },
       "id": "db1c86e5-bccb-457e-bdb1-1f0fc70d6e9f"
      }
     }
    },
    "8f6a59a7-55c7-433c-9230-4fa0f50f230d": {
     "id": "8f6a59a7-55c7-433c-9230-4fa0f50f230d",
     "prev": "a1233ecb-7a69-46bc-88f8-fa2f3a111e7a",
     "regions": {
      "8ccb20df-dc0d-41e5-b269-8218482708dc": {
       "attrs": {
        "height": 0.8,
        "width": 0.8,
        "x": 0.1,
        "y": 0.1
       },
       "content": {
        "cell": "b7804b11-66f1-43da-af19-42628d45f101",
        "part": "whole"
       },
       "id": "8ccb20df-dc0d-41e5-b269-8218482708dc"
      }
     }
    },
    "93485a7a-a8a1-4655-8e7c-abb51bd22538": {
     "id": "93485a7a-a8a1-4655-8e7c-abb51bd22538",
     "prev": "ae2669cc-aa69-4247-a5e5-41a9970c2114",
     "regions": {
      "9d677fdf-c525-4e6c-9b14-3939762b4515": {
       "attrs": {
        "height": 0.8,
        "width": 0.8,
        "x": 0.1,
        "y": 0.1
       },
       "content": {
        "cell": "ffc1a43c-ba04-4f0c-91fd-2c0a7a855cb1",
        "part": "whole"
       },
       "id": "9d677fdf-c525-4e6c-9b14-3939762b4515"
      }
     }
    },
    "96aed679-3757-4262-9362-f296c82d69a3": {
     "id": "96aed679-3757-4262-9362-f296c82d69a3",
     "prev": "3b154818-cab6-4c9d-84b4-13897c18de71",
     "regions": {
      "71174e39-eddd-4e61-ba6b-3c09c4f5511e": {
       "attrs": {
        "height": 0.8,
        "width": 0.8,
        "x": 0.1,
        "y": 0.1
       },
       "content": {
        "cell": "1243171f-c13c-4c7d-842c-5bd9c88443e8",
        "part": "whole"
       },
       "id": "71174e39-eddd-4e61-ba6b-3c09c4f5511e"
      }
     }
    },
    "98952b02-6391-47fd-8594-f4873d13d345": {
     "id": "98952b02-6391-47fd-8594-f4873d13d345",
     "prev": "96aed679-3757-4262-9362-f296c82d69a3",
     "regions": {
      "605279de-fda1-402a-926a-a894c3dc5293": {
       "attrs": {
        "height": 0.8,
        "width": 0.8,
        "x": 0.1,
        "y": 0.1
       },
       "content": {
        "cell": "d3a65050-db2c-4774-bf23-a9fe17b315e1",
        "part": "whole"
       },
       "id": "605279de-fda1-402a-926a-a894c3dc5293"
      }
     }
    },
    "9b280851-8df4-4af2-9bae-6130c4b64bd6": {
     "id": "9b280851-8df4-4af2-9bae-6130c4b64bd6",
     "prev": "7708ebbd-971a-4bdc-8d1d-a91ee70a6b0b",
     "regions": {
      "0e82316e-bcad-4a3e-b1b9-d8915de313a7": {
       "attrs": {
        "height": 0.8,
        "width": 0.8,
        "x": 0.1,
        "y": 0.1
       },
       "content": {
        "cell": "8315a9e8-1fbe-45e7-8a22-8bdcd60844b8",
        "part": "whole"
       },
       "id": "0e82316e-bcad-4a3e-b1b9-d8915de313a7"
      }
     }
    },
    "a1233ecb-7a69-46bc-88f8-fa2f3a111e7a": {
     "id": "a1233ecb-7a69-46bc-88f8-fa2f3a111e7a",
     "prev": "de32306f-159b-44d9-b878-d644360574e5",
     "regions": {
      "3fcc7def-21e1-4959-a767-e8151a8cdcc1": {
       "attrs": {
        "height": 0.8,
        "width": 0.8,
        "x": 0.1,
        "y": 0.1
       },
       "content": {
        "cell": "2f3a5ac0-41d0-4ac6-b688-935467cc06b1",
        "part": "whole"
       },
       "id": "3fcc7def-21e1-4959-a767-e8151a8cdcc1"
      }
     }
    },
    "a5d3f10a-79c8-4fd0-9b1c-a709b0d8ce67": {
     "id": "a5d3f10a-79c8-4fd0-9b1c-a709b0d8ce67",
     "prev": "41f7cb7d-21f3-4136-a15e-ab028b1a1c0e",
     "regions": {
      "7b986593-985b-4434-a3cf-89e806850e59": {
       "attrs": {
        "height": 0.8,
        "width": 0.8,
        "x": 0.1,
        "y": 0.1
       },
       "content": {
        "cell": "ac47522a-c996-41d2-b175-bdbb49b3adce",
        "part": "whole"
       },
       "id": "7b986593-985b-4434-a3cf-89e806850e59"
      }
     }
    },
    "a6848942-9b32-45a7-a5ba-8ddf549b1835": {
     "id": "a6848942-9b32-45a7-a5ba-8ddf549b1835",
     "prev": "c31e89c3-3ad5-436c-8d91-5ca19680afad",
     "regions": {
      "8d68e28f-f63e-4883-abaf-496d9f1de929": {
       "attrs": {
        "height": 0.8,
        "width": 0.8,
        "x": 0.1,
        "y": 0.1
       },
       "content": {
        "cell": "3d2012ce-64b5-4be0-af8b-bf94abd66e06",
        "part": "whole"
       },
       "id": "8d68e28f-f63e-4883-abaf-496d9f1de929"
      }
     }
    },
    "a7cc6a57-a1a4-487d-ba68-50042079078c": {
     "id": "a7cc6a57-a1a4-487d-ba68-50042079078c",
     "prev": "2e5894c1-6820-4181-ad85-c5e24e1bbbd0",
     "regions": {
      "11d5a22c-a681-49ab-a3a5-416a6575af30": {
       "attrs": {
        "height": 0.8,
        "width": 0.8,
        "x": 0.1,
        "y": 0.1
       },
       "content": {
        "cell": "04e03bd1-3941-49e2-b7b2-6017a13fff80",
        "part": "whole"
       },
       "id": "11d5a22c-a681-49ab-a3a5-416a6575af30"
      }
     }
    },
    "a8d5e8ac-01a3-4414-825d-9c9a558274eb": {
     "id": "a8d5e8ac-01a3-4414-825d-9c9a558274eb",
     "prev": "5eea99bd-c6b1-4739-846b-585d86fb2d41",
     "regions": {
      "5fbb1977-a8dc-43a7-b283-9543a5ae128d": {
       "attrs": {
        "height": 0.8,
        "width": 0.8,
        "x": 0.1,
        "y": 0.1
       },
       "content": {
        "cell": "dfc1c8f4-057c-4004-b238-e077f3c916a7",
        "part": "whole"
       },
       "id": "5fbb1977-a8dc-43a7-b283-9543a5ae128d"
      }
     }
    },
    "ae2669cc-aa69-4247-a5e5-41a9970c2114": {
     "id": "ae2669cc-aa69-4247-a5e5-41a9970c2114",
     "prev": "bfa05cbf-e0f2-4bc4-9830-1916990e576b",
     "regions": {
      "11d4d3b0-5040-49c5-b229-d0eb922b5d15": {
       "attrs": {
        "height": 0.8,
        "width": 0.8,
        "x": 0.1,
        "y": 0.1
       },
       "content": {
        "cell": "5103283a-f5ef-4cc8-aaab-ed72a69aaa36",
        "part": "whole"
       },
       "id": "11d4d3b0-5040-49c5-b229-d0eb922b5d15"
      }
     }
    },
    "b77ad474-eef1-4c9f-ac23-f878c753eafc": {
     "id": "b77ad474-eef1-4c9f-ac23-f878c753eafc",
     "prev": "846fb540-3372-4e24-a790-41ea1cd47d4e",
     "regions": {
      "46c4a0bc-6f12-40d8-878c-765ab2779be5": {
       "attrs": {
        "height": 0.8,
        "width": 0.8,
        "x": 0.1,
        "y": 0.1
       },
       "content": {
        "cell": "42f828bf-bced-4e78-961f-d550c39bea97",
        "part": "whole"
       },
       "id": "46c4a0bc-6f12-40d8-878c-765ab2779be5"
      }
     }
    },
    "b8eef1cb-9c69-4f6e-a9a6-09f6f008e6ec": {
     "id": "b8eef1cb-9c69-4f6e-a9a6-09f6f008e6ec",
     "prev": "5fefb984-d1d0-45cf-8ec2-1314e2368f13",
     "regions": {
      "efc5f651-9f51-46c7-8e32-8dc2a2fb14bf": {
       "attrs": {
        "height": 0.8,
        "width": 0.8,
        "x": 0.1,
        "y": 0.1
       },
       "content": {
        "cell": "732841a6-32af-408e-bcbc-508db9eac8ed",
        "part": "whole"
       },
       "id": "efc5f651-9f51-46c7-8e32-8dc2a2fb14bf"
      }
     }
    },
    "bfa05cbf-e0f2-4bc4-9830-1916990e576b": {
     "id": "bfa05cbf-e0f2-4bc4-9830-1916990e576b",
     "prev": "d57ae1de-3e26-4dd5-a775-e72c0a8e9f4d",
     "regions": {
      "32b680a5-1fb5-4343-8cfa-9509d1efdc8d": {
       "attrs": {
        "height": 0.8,
        "width": 0.8,
        "x": 0.1,
        "y": 0.1
       },
       "content": {
        "cell": "e1d5066e-5513-4c66-9dc3-f560b129017f",
        "part": "whole"
       },
       "id": "32b680a5-1fb5-4343-8cfa-9509d1efdc8d"
      }
     }
    },
    "c31e89c3-3ad5-436c-8d91-5ca19680afad": {
     "id": "c31e89c3-3ad5-436c-8d91-5ca19680afad",
     "prev": "8f6a59a7-55c7-433c-9230-4fa0f50f230d",
     "regions": {
      "382c0469-bf97-46ab-903e-3d2d218c0fcd": {
       "attrs": {
        "height": 0.8,
        "width": 0.8,
        "x": 0.1,
        "y": 0.1
       },
       "content": {
        "cell": "94127012-0dde-4565-81c0-cb8682699789",
        "part": "whole"
       },
       "id": "382c0469-bf97-46ab-903e-3d2d218c0fcd"
      }
     }
    },
    "cc6dd312-8334-4499-a38e-509f64ef1df8": {
     "id": "cc6dd312-8334-4499-a38e-509f64ef1df8",
     "prev": "354b1610-8119-46ae-abb8-9d518050801c",
     "regions": {
      "1bb5fad5-1e23-419e-bc99-1e43db5fdf54": {
       "attrs": {
        "height": 0.8,
        "width": 0.8,
        "x": 0.1,
        "y": 0.1
       },
       "content": {
        "cell": "25570833-b3c2-4abf-932e-920cd695a6a4",
        "part": "whole"
       },
       "id": "1bb5fad5-1e23-419e-bc99-1e43db5fdf54"
      }
     }
    },
    "d5609370-eda7-4186-999e-3b6d62f50dfe": {
     "id": "d5609370-eda7-4186-999e-3b6d62f50dfe",
     "prev": "83361870-abc5-4159-adac-61f127e3356a",
     "regions": {
      "b33275e8-90e1-491a-8501-cf379d883002": {
       "attrs": {
        "height": 0.8,
        "width": 0.8,
        "x": 0.1,
        "y": 0.1
       },
       "content": {
        "cell": "00ea93cc-aee5-4924-9bbc-330934674bb2",
        "part": "whole"
       },
       "id": "b33275e8-90e1-491a-8501-cf379d883002"
      }
     }
    },
    "d57ae1de-3e26-4dd5-a775-e72c0a8e9f4d": {
     "id": "d57ae1de-3e26-4dd5-a775-e72c0a8e9f4d",
     "prev": "a6848942-9b32-45a7-a5ba-8ddf549b1835",
     "regions": {
      "73836e53-c390-4199-9b26-4bdf576eedb3": {
       "attrs": {
        "height": 0.8,
        "width": 0.8,
        "x": 0.1,
        "y": 0.1
       },
       "content": {
        "cell": "a46f8917-7900-44ac-9917-97d840619320",
        "part": "whole"
       },
       "id": "73836e53-c390-4199-9b26-4bdf576eedb3"
      }
     }
    },
    "d75f42f4-0ebc-48fe-be42-6489004da44b": {
     "id": "d75f42f4-0ebc-48fe-be42-6489004da44b",
     "prev": "d5609370-eda7-4186-999e-3b6d62f50dfe",
     "regions": {
      "7d9fa95e-a982-43ef-a235-ffab94dc82e5": {
       "attrs": {
        "height": 0.8,
        "width": 0.8,
        "x": 0.1,
        "y": 0.1
       },
       "content": {
        "cell": "a317bcb5-f624-4a30-8359-7249ee8cc3a6",
        "part": "whole"
       },
       "id": "7d9fa95e-a982-43ef-a235-ffab94dc82e5"
      }
     }
    },
    "d76c096d-e2ad-4230-a9a2-1eb0e29670a9": {
     "id": "d76c096d-e2ad-4230-a9a2-1eb0e29670a9",
     "prev": "9b280851-8df4-4af2-9bae-6130c4b64bd6",
     "regions": {
      "f5bbcf9c-6088-4124-acfb-14db0f0c40d4": {
       "attrs": {
        "height": 0.8,
        "width": 0.8,
        "x": 0.1,
        "y": 0.1
       },
       "content": {
        "cell": "1257f359-7cd6-439f-a1ce-1a79a8017ac8",
        "part": "whole"
       },
       "id": "f5bbcf9c-6088-4124-acfb-14db0f0c40d4"
      }
     }
    },
    "d8c6510f-bf60-4b1b-a75f-4a51d116ac29": {
     "id": "d8c6510f-bf60-4b1b-a75f-4a51d116ac29",
     "prev": "42a910a1-2fb2-4744-bcf3-3ff9ba5c8776",
     "regions": {
      "910c677a-a210-4fd8-877a-8d411f0f4041": {
       "attrs": {
        "height": 0.8,
        "width": 0.8,
        "x": 0.1,
        "y": 0.1
       },
       "content": {
        "cell": "f030ed67-9d26-4409-9f3c-acbe2e4670da",
        "part": "whole"
       },
       "id": "910c677a-a210-4fd8-877a-8d411f0f4041"
      }
     }
    },
    "dc4e8f8d-e4a7-45d9-8610-7ed11f448509": {
     "id": "dc4e8f8d-e4a7-45d9-8610-7ed11f448509",
     "prev": "3f00485b-004a-465e-8e25-703786bf2ea6",
     "regions": {
      "e9f3eb61-f5bf-40ff-853f-36889bb91793": {
       "attrs": {
        "height": 0.8,
        "width": 0.8,
        "x": 0.1,
        "y": 0.1
       },
       "content": {
        "cell": "88d3cda6-0860-4df8-b6e3-cf35035ffcfd",
        "part": "whole"
       },
       "id": "e9f3eb61-f5bf-40ff-853f-36889bb91793"
      }
     }
    },
    "de32306f-159b-44d9-b878-d644360574e5": {
     "id": "de32306f-159b-44d9-b878-d644360574e5",
     "prev": "f68f2330-e6bc-408e-94fa-d079cbe29736",
     "regions": {
      "73381d43-8d29-4b45-a6bb-30ff7fd0cf3f": {
       "attrs": {
        "height": 0.8,
        "width": 0.8,
        "x": 0.1,
        "y": 0.1
       },
       "content": {
        "cell": "7796fc5b-1d46-4336-99b8-ea2cc6b47614",
        "part": "whole"
       },
       "id": "73381d43-8d29-4b45-a6bb-30ff7fd0cf3f"
      }
     }
    },
    "e10129e0-769c-4c33-a4de-8e923ce505e4": {
     "id": "e10129e0-769c-4c33-a4de-8e923ce505e4",
     "prev": "cc6dd312-8334-4499-a38e-509f64ef1df8",
     "regions": {
      "89a2ba57-5af4-4a41-9452-2786da4f8a3e": {
       "attrs": {
        "height": 0.8,
        "width": 0.8,
        "x": 0.1,
        "y": 0.1
       },
       "content": {
        "cell": "b8c078f2-0269-4a6e-8f66-ffac6f3c4c0f",
        "part": "whole"
       },
       "id": "89a2ba57-5af4-4a41-9452-2786da4f8a3e"
      }
     }
    },
    "e2baec85-ad6c-47e4-b0b7-b33be4ecd142": {
     "id": "e2baec85-ad6c-47e4-b0b7-b33be4ecd142",
     "prev": "b8eef1cb-9c69-4f6e-a9a6-09f6f008e6ec",
     "regions": {
      "dc1cfb27-eb04-4638-8f5f-835f735922bd": {
       "attrs": {
        "height": 0.8,
        "width": 0.8,
        "x": 0.1,
        "y": 0.1
       },
       "content": {
        "cell": "c672bf78-e4aa-4795-b9a2-9afcc9c14be3",
        "part": "whole"
       },
       "id": "dc1cfb27-eb04-4638-8f5f-835f735922bd"
      }
     }
    },
    "e4cb1bf8-6eda-4d07-8d8f-4f28cc52d188": {
     "id": "e4cb1bf8-6eda-4d07-8d8f-4f28cc52d188",
     "prev": "98952b02-6391-47fd-8594-f4873d13d345",
     "regions": {
      "83f0eb99-436a-441d-9090-7d04e1eacea7": {
       "attrs": {
        "height": 0.8,
        "width": 0.8,
        "x": 0.1,
        "y": 0.1
       },
       "content": {
        "cell": "3a428b69-8e46-44d8-81e9-183354bf8926",
        "part": "whole"
       },
       "id": "83f0eb99-436a-441d-9090-7d04e1eacea7"
      }
     }
    },
    "eb8e0c35-e0be-4276-8f04-7021087adcc3": {
     "id": "eb8e0c35-e0be-4276-8f04-7021087adcc3",
     "prev": "5c9c2471-0958-4f94-92d4-0c8813985d5d",
     "regions": {
      "d7f4cfe9-ea64-402d-8973-186a33968ce5": {
       "attrs": {
        "height": 0.8,
        "width": 0.8,
        "x": 0.1,
        "y": 0.1
       },
       "content": {
        "cell": "45fade5b-6375-4828-bf2a-67d8474dab2c",
        "part": "whole"
       },
       "id": "d7f4cfe9-ea64-402d-8973-186a33968ce5"
      }
     }
    },
    "f68f2330-e6bc-408e-94fa-d079cbe29736": {
     "id": "f68f2330-e6bc-408e-94fa-d079cbe29736",
     "prev": "8ad53d1d-2385-44b3-ba7d-6dd71d3c056f",
     "regions": {
      "f7506325-7ced-49ef-a9af-b409f1ee5f7c": {
       "attrs": {
        "height": 0.8,
        "width": 0.8,
        "x": 0.1,
        "y": 0.1
       },
       "content": {
        "cell": "684c5872-0b88-4a8f-b9b1-0014e0fb53ad",
        "part": "whole"
       },
       "id": "f7506325-7ced-49ef-a9af-b409f1ee5f7c"
      }
     }
    },
    "f89d686b-7bb8-4ca5-a3e4-5b8bcfcb10f8": {
     "id": "f89d686b-7bb8-4ca5-a3e4-5b8bcfcb10f8",
     "prev": "146019d5-d9c6-41b6-a19a-8675a21feb50",
     "regions": {
      "f080e291-bfbb-47ed-968f-d356c3535ccf": {
       "attrs": {
        "height": 0.8,
        "width": 0.8,
        "x": 0.1,
        "y": 0.1
       },
       "content": {
        "cell": "76ac7d63-629c-4616-8aee-56e82d58bcb8",
        "part": "whole"
       },
       "id": "f080e291-bfbb-47ed-968f-d356c3535ccf"
      }
     }
    }
   },
   "themes": {}
  }
 },
 "nbformat": 4,
 "nbformat_minor": 0
}
