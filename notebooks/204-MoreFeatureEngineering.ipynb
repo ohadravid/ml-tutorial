{
 "cells": [
  {
   "cell_type": "code",
   "execution_count": 4,
   "metadata": {
    "collapsed": true
   },
   "outputs": [],
   "source": [
    "import numpy as np \n",
    "import pandas as pd \n",
    "import matplotlib.pyplot as plt\n",
    "%matplotlib inline"
   ]
  },
  {
   "cell_type": "code",
   "execution_count": null,
   "metadata": {
    "collapsed": true
   },
   "outputs": [],
   "source": []
  },
  {
   "cell_type": "code",
   "execution_count": 5,
   "metadata": {
    "collapsed": true
   },
   "outputs": [],
   "source": [
    "filename= \"../data/kobe/kobe_bryant_shot_data.csv.gz\"\n",
    "df = pd.read_csv(filename, na_values={'shot_made_flag': ''})\n",
    "df = df.dropna()\n",
    "df = df.drop([u'game_event_id', u'game_id', 'combined_shot_type',\n",
    "       u'lat', u'lon', u'team_id', u'team_name', u'game_date',\n",
    "        u'shot_id'], axis=1)\n",
    "\n",
    "df = df.drop(['loc_x', 'loc_y', 'shot_type','shot_zone_basic', 'shot_zone_range'], axis=1)"
   ]
  },
  {
   "cell_type": "code",
   "execution_count": 6,
   "metadata": {
    "collapsed": true
   },
   "outputs": [],
   "source": [
    "df['home'] = df.matchup.apply(lambda matchup: 0 if '@' in matchup else 1)\n",
    "df = df.drop(['matchup'], axis=1)\n",
    "\n",
    "df['time_remaining'] = 60 * df['minutes_remaining'] + df['seconds_remaining']\n",
    "df = df.drop(['minutes_remaining', 'seconds_remaining'], axis=1)\n",
    "\n",
    "cols = df.columns.tolist()\n",
    "cols.remove('shot_made_flag')\n",
    "cols.append('shot_made_flag')\n",
    "\n",
    "df = df[cols]"
   ]
  },
  {
   "cell_type": "code",
   "execution_count": 7,
   "metadata": {
    "collapsed": true
   },
   "outputs": [],
   "source": [
    "filename= \"../data/kobe/kobe_bryant_shot_data_refined.csv\"\n",
    "df.to_csv(filename, index=False)"
   ]
  },
  {
   "cell_type": "code",
   "execution_count": null,
   "metadata": {
    "collapsed": true
   },
   "outputs": [],
   "source": []
  },
  {
   "cell_type": "code",
   "execution_count": 8,
   "metadata": {
    "collapsed": false
   },
   "outputs": [],
   "source": [
    "filename= \"../data/kobe/kobe_bryant_shot_data_refined.csv\"\n",
    "df = pd.read_csv(filename)"
   ]
  },
  {
   "cell_type": "code",
   "execution_count": null,
   "metadata": {
    "collapsed": false
   },
   "outputs": [],
   "source": []
  },
  {
   "cell_type": "code",
   "execution_count": 9,
   "metadata": {
    "collapsed": false,
    "scrolled": true
   },
   "outputs": [
    {
     "data": {
      "text/html": [
       "<div>\n",
       "<table border=\"1\" class=\"dataframe\">\n",
       "  <thead>\n",
       "    <tr style=\"text-align: right;\">\n",
       "      <th></th>\n",
       "      <th>action_type</th>\n",
       "      <th>period</th>\n",
       "      <th>playoffs</th>\n",
       "      <th>season</th>\n",
       "      <th>shot_distance</th>\n",
       "      <th>shot_zone_area</th>\n",
       "      <th>opponent</th>\n",
       "      <th>home</th>\n",
       "      <th>time_remaining</th>\n",
       "      <th>shot_made_flag</th>\n",
       "    </tr>\n",
       "  </thead>\n",
       "  <tbody>\n",
       "    <tr>\n",
       "      <th>0</th>\n",
       "      <td>Jump Shot</td>\n",
       "      <td>1</td>\n",
       "      <td>0</td>\n",
       "      <td>2000-01</td>\n",
       "      <td>15</td>\n",
       "      <td>Left Side(L)</td>\n",
       "      <td>POR</td>\n",
       "      <td>0</td>\n",
       "      <td>622</td>\n",
       "      <td>0.0</td>\n",
       "    </tr>\n",
       "    <tr>\n",
       "      <th>1</th>\n",
       "      <td>Jump Shot</td>\n",
       "      <td>1</td>\n",
       "      <td>0</td>\n",
       "      <td>2000-01</td>\n",
       "      <td>16</td>\n",
       "      <td>Left Side Center(LC)</td>\n",
       "      <td>POR</td>\n",
       "      <td>0</td>\n",
       "      <td>465</td>\n",
       "      <td>1.0</td>\n",
       "    </tr>\n",
       "    <tr>\n",
       "      <th>2</th>\n",
       "      <td>Jump Shot</td>\n",
       "      <td>1</td>\n",
       "      <td>0</td>\n",
       "      <td>2000-01</td>\n",
       "      <td>22</td>\n",
       "      <td>Right Side Center(RC)</td>\n",
       "      <td>POR</td>\n",
       "      <td>0</td>\n",
       "      <td>412</td>\n",
       "      <td>0.0</td>\n",
       "    </tr>\n",
       "    <tr>\n",
       "      <th>3</th>\n",
       "      <td>Driving Dunk Shot</td>\n",
       "      <td>2</td>\n",
       "      <td>0</td>\n",
       "      <td>2000-01</td>\n",
       "      <td>0</td>\n",
       "      <td>Center(C)</td>\n",
       "      <td>POR</td>\n",
       "      <td>0</td>\n",
       "      <td>379</td>\n",
       "      <td>1.0</td>\n",
       "    </tr>\n",
       "    <tr>\n",
       "      <th>4</th>\n",
       "      <td>Jump Shot</td>\n",
       "      <td>3</td>\n",
       "      <td>0</td>\n",
       "      <td>2000-01</td>\n",
       "      <td>14</td>\n",
       "      <td>Left Side(L)</td>\n",
       "      <td>POR</td>\n",
       "      <td>0</td>\n",
       "      <td>572</td>\n",
       "      <td>0.0</td>\n",
       "    </tr>\n",
       "    <tr>\n",
       "      <th>5</th>\n",
       "      <td>Layup Shot</td>\n",
       "      <td>3</td>\n",
       "      <td>0</td>\n",
       "      <td>2000-01</td>\n",
       "      <td>0</td>\n",
       "      <td>Center(C)</td>\n",
       "      <td>POR</td>\n",
       "      <td>0</td>\n",
       "      <td>532</td>\n",
       "      <td>1.0</td>\n",
       "    </tr>\n",
       "    <tr>\n",
       "      <th>6</th>\n",
       "      <td>Jump Shot</td>\n",
       "      <td>3</td>\n",
       "      <td>0</td>\n",
       "      <td>2000-01</td>\n",
       "      <td>12</td>\n",
       "      <td>Left Side(L)</td>\n",
       "      <td>POR</td>\n",
       "      <td>0</td>\n",
       "      <td>372</td>\n",
       "      <td>1.0</td>\n",
       "    </tr>\n",
       "    <tr>\n",
       "      <th>7</th>\n",
       "      <td>Running Jump Shot</td>\n",
       "      <td>3</td>\n",
       "      <td>0</td>\n",
       "      <td>2000-01</td>\n",
       "      <td>12</td>\n",
       "      <td>Center(C)</td>\n",
       "      <td>POR</td>\n",
       "      <td>0</td>\n",
       "      <td>216</td>\n",
       "      <td>0.0</td>\n",
       "    </tr>\n",
       "    <tr>\n",
       "      <th>8</th>\n",
       "      <td>Jump Shot</td>\n",
       "      <td>3</td>\n",
       "      <td>0</td>\n",
       "      <td>2000-01</td>\n",
       "      <td>25</td>\n",
       "      <td>Left Side Center(LC)</td>\n",
       "      <td>POR</td>\n",
       "      <td>0</td>\n",
       "      <td>116</td>\n",
       "      <td>0.0</td>\n",
       "    </tr>\n",
       "    <tr>\n",
       "      <th>9</th>\n",
       "      <td>Jump Shot</td>\n",
       "      <td>1</td>\n",
       "      <td>0</td>\n",
       "      <td>2000-01</td>\n",
       "      <td>17</td>\n",
       "      <td>Right Side Center(RC)</td>\n",
       "      <td>UTA</td>\n",
       "      <td>1</td>\n",
       "      <td>660</td>\n",
       "      <td>1.0</td>\n",
       "    </tr>\n",
       "    <tr>\n",
       "      <th>10</th>\n",
       "      <td>Running Jump Shot</td>\n",
       "      <td>1</td>\n",
       "      <td>0</td>\n",
       "      <td>2000-01</td>\n",
       "      <td>12</td>\n",
       "      <td>Left Side(L)</td>\n",
       "      <td>UTA</td>\n",
       "      <td>1</td>\n",
       "      <td>429</td>\n",
       "      <td>1.0</td>\n",
       "    </tr>\n",
       "    <tr>\n",
       "      <th>11</th>\n",
       "      <td>Jump Shot</td>\n",
       "      <td>1</td>\n",
       "      <td>0</td>\n",
       "      <td>2000-01</td>\n",
       "      <td>9</td>\n",
       "      <td>Left Side(L)</td>\n",
       "      <td>UTA</td>\n",
       "      <td>1</td>\n",
       "      <td>164</td>\n",
       "      <td>0.0</td>\n",
       "    </tr>\n",
       "    <tr>\n",
       "      <th>12</th>\n",
       "      <td>Jump Shot</td>\n",
       "      <td>1</td>\n",
       "      <td>0</td>\n",
       "      <td>2000-01</td>\n",
       "      <td>5</td>\n",
       "      <td>Center(C)</td>\n",
       "      <td>UTA</td>\n",
       "      <td>1</td>\n",
       "      <td>76</td>\n",
       "      <td>0.0</td>\n",
       "    </tr>\n",
       "    <tr>\n",
       "      <th>13</th>\n",
       "      <td>Jump Shot</td>\n",
       "      <td>1</td>\n",
       "      <td>0</td>\n",
       "      <td>2000-01</td>\n",
       "      <td>20</td>\n",
       "      <td>Center(C)</td>\n",
       "      <td>UTA</td>\n",
       "      <td>1</td>\n",
       "      <td>48</td>\n",
       "      <td>0.0</td>\n",
       "    </tr>\n",
       "    <tr>\n",
       "      <th>14</th>\n",
       "      <td>Jump Shot</td>\n",
       "      <td>2</td>\n",
       "      <td>0</td>\n",
       "      <td>2000-01</td>\n",
       "      <td>25</td>\n",
       "      <td>Left Side Center(LC)</td>\n",
       "      <td>UTA</td>\n",
       "      <td>1</td>\n",
       "      <td>530</td>\n",
       "      <td>1.0</td>\n",
       "    </tr>\n",
       "    <tr>\n",
       "      <th>15</th>\n",
       "      <td>Jump Shot</td>\n",
       "      <td>3</td>\n",
       "      <td>0</td>\n",
       "      <td>2000-01</td>\n",
       "      <td>16</td>\n",
       "      <td>Left Side Center(LC)</td>\n",
       "      <td>UTA</td>\n",
       "      <td>1</td>\n",
       "      <td>689</td>\n",
       "      <td>0.0</td>\n",
       "    </tr>\n",
       "    <tr>\n",
       "      <th>16</th>\n",
       "      <td>Jump Shot</td>\n",
       "      <td>3</td>\n",
       "      <td>0</td>\n",
       "      <td>2000-01</td>\n",
       "      <td>14</td>\n",
       "      <td>Center(C)</td>\n",
       "      <td>UTA</td>\n",
       "      <td>1</td>\n",
       "      <td>608</td>\n",
       "      <td>0.0</td>\n",
       "    </tr>\n",
       "    <tr>\n",
       "      <th>17</th>\n",
       "      <td>Jump Shot</td>\n",
       "      <td>3</td>\n",
       "      <td>0</td>\n",
       "      <td>2000-01</td>\n",
       "      <td>18</td>\n",
       "      <td>Right Side Center(RC)</td>\n",
       "      <td>UTA</td>\n",
       "      <td>1</td>\n",
       "      <td>544</td>\n",
       "      <td>0.0</td>\n",
       "    </tr>\n",
       "    <tr>\n",
       "      <th>18</th>\n",
       "      <td>Running Jump Shot</td>\n",
       "      <td>3</td>\n",
       "      <td>0</td>\n",
       "      <td>2000-01</td>\n",
       "      <td>11</td>\n",
       "      <td>Center(C)</td>\n",
       "      <td>UTA</td>\n",
       "      <td>1</td>\n",
       "      <td>477</td>\n",
       "      <td>1.0</td>\n",
       "    </tr>\n",
       "    <tr>\n",
       "      <th>19</th>\n",
       "      <td>Running Jump Shot</td>\n",
       "      <td>3</td>\n",
       "      <td>0</td>\n",
       "      <td>2000-01</td>\n",
       "      <td>18</td>\n",
       "      <td>Left Side Center(LC)</td>\n",
       "      <td>UTA</td>\n",
       "      <td>1</td>\n",
       "      <td>347</td>\n",
       "      <td>1.0</td>\n",
       "    </tr>\n",
       "    <tr>\n",
       "      <th>20</th>\n",
       "      <td>Running Jump Shot</td>\n",
       "      <td>3</td>\n",
       "      <td>0</td>\n",
       "      <td>2000-01</td>\n",
       "      <td>7</td>\n",
       "      <td>Center(C)</td>\n",
       "      <td>UTA</td>\n",
       "      <td>1</td>\n",
       "      <td>311</td>\n",
       "      <td>1.0</td>\n",
       "    </tr>\n",
       "    <tr>\n",
       "      <th>21</th>\n",
       "      <td>Layup Shot</td>\n",
       "      <td>3</td>\n",
       "      <td>0</td>\n",
       "      <td>2000-01</td>\n",
       "      <td>0</td>\n",
       "      <td>Center(C)</td>\n",
       "      <td>UTA</td>\n",
       "      <td>1</td>\n",
       "      <td>156</td>\n",
       "      <td>0.0</td>\n",
       "    </tr>\n",
       "    <tr>\n",
       "      <th>22</th>\n",
       "      <td>Jump Shot</td>\n",
       "      <td>3</td>\n",
       "      <td>0</td>\n",
       "      <td>2000-01</td>\n",
       "      <td>20</td>\n",
       "      <td>Center(C)</td>\n",
       "      <td>UTA</td>\n",
       "      <td>1</td>\n",
       "      <td>124</td>\n",
       "      <td>0.0</td>\n",
       "    </tr>\n",
       "    <tr>\n",
       "      <th>23</th>\n",
       "      <td>Jump Shot</td>\n",
       "      <td>3</td>\n",
       "      <td>0</td>\n",
       "      <td>2000-01</td>\n",
       "      <td>26</td>\n",
       "      <td>Left Side Center(LC)</td>\n",
       "      <td>UTA</td>\n",
       "      <td>1</td>\n",
       "      <td>30</td>\n",
       "      <td>0.0</td>\n",
       "    </tr>\n",
       "    <tr>\n",
       "      <th>24</th>\n",
       "      <td>Jump Shot</td>\n",
       "      <td>4</td>\n",
       "      <td>0</td>\n",
       "      <td>2000-01</td>\n",
       "      <td>19</td>\n",
       "      <td>Right Side Center(RC)</td>\n",
       "      <td>UTA</td>\n",
       "      <td>1</td>\n",
       "      <td>499</td>\n",
       "      <td>0.0</td>\n",
       "    </tr>\n",
       "    <tr>\n",
       "      <th>25</th>\n",
       "      <td>Jump Shot</td>\n",
       "      <td>4</td>\n",
       "      <td>0</td>\n",
       "      <td>2000-01</td>\n",
       "      <td>8</td>\n",
       "      <td>Center(C)</td>\n",
       "      <td>UTA</td>\n",
       "      <td>1</td>\n",
       "      <td>382</td>\n",
       "      <td>0.0</td>\n",
       "    </tr>\n",
       "    <tr>\n",
       "      <th>26</th>\n",
       "      <td>Running Jump Shot</td>\n",
       "      <td>4</td>\n",
       "      <td>0</td>\n",
       "      <td>2000-01</td>\n",
       "      <td>12</td>\n",
       "      <td>Right Side(R)</td>\n",
       "      <td>UTA</td>\n",
       "      <td>1</td>\n",
       "      <td>80</td>\n",
       "      <td>1.0</td>\n",
       "    </tr>\n",
       "    <tr>\n",
       "      <th>27</th>\n",
       "      <td>Jump Shot</td>\n",
       "      <td>4</td>\n",
       "      <td>0</td>\n",
       "      <td>2000-01</td>\n",
       "      <td>13</td>\n",
       "      <td>Right Side(R)</td>\n",
       "      <td>UTA</td>\n",
       "      <td>1</td>\n",
       "      <td>30</td>\n",
       "      <td>0.0</td>\n",
       "    </tr>\n",
       "    <tr>\n",
       "      <th>28</th>\n",
       "      <td>Jump Shot</td>\n",
       "      <td>2</td>\n",
       "      <td>0</td>\n",
       "      <td>2000-01</td>\n",
       "      <td>20</td>\n",
       "      <td>Right Side Center(RC)</td>\n",
       "      <td>VAN</td>\n",
       "      <td>0</td>\n",
       "      <td>210</td>\n",
       "      <td>1.0</td>\n",
       "    </tr>\n",
       "    <tr>\n",
       "      <th>29</th>\n",
       "      <td>Jump Shot</td>\n",
       "      <td>2</td>\n",
       "      <td>0</td>\n",
       "      <td>2000-01</td>\n",
       "      <td>27</td>\n",
       "      <td>Center(C)</td>\n",
       "      <td>VAN</td>\n",
       "      <td>0</td>\n",
       "      <td>4</td>\n",
       "      <td>1.0</td>\n",
       "    </tr>\n",
       "    <tr>\n",
       "      <th>...</th>\n",
       "      <td>...</td>\n",
       "      <td>...</td>\n",
       "      <td>...</td>\n",
       "      <td>...</td>\n",
       "      <td>...</td>\n",
       "      <td>...</td>\n",
       "      <td>...</td>\n",
       "      <td>...</td>\n",
       "      <td>...</td>\n",
       "      <td>...</td>\n",
       "    </tr>\n",
       "    <tr>\n",
       "      <th>25667</th>\n",
       "      <td>Slam Dunk Shot</td>\n",
       "      <td>3</td>\n",
       "      <td>1</td>\n",
       "      <td>1999-00</td>\n",
       "      <td>0</td>\n",
       "      <td>Center(C)</td>\n",
       "      <td>IND</td>\n",
       "      <td>0</td>\n",
       "      <td>598</td>\n",
       "      <td>1.0</td>\n",
       "    </tr>\n",
       "    <tr>\n",
       "      <th>25668</th>\n",
       "      <td>Jump Shot</td>\n",
       "      <td>3</td>\n",
       "      <td>1</td>\n",
       "      <td>1999-00</td>\n",
       "      <td>5</td>\n",
       "      <td>Center(C)</td>\n",
       "      <td>IND</td>\n",
       "      <td>0</td>\n",
       "      <td>512</td>\n",
       "      <td>0.0</td>\n",
       "    </tr>\n",
       "    <tr>\n",
       "      <th>25669</th>\n",
       "      <td>Jump Shot</td>\n",
       "      <td>3</td>\n",
       "      <td>1</td>\n",
       "      <td>1999-00</td>\n",
       "      <td>10</td>\n",
       "      <td>Right Side(R)</td>\n",
       "      <td>IND</td>\n",
       "      <td>0</td>\n",
       "      <td>396</td>\n",
       "      <td>0.0</td>\n",
       "    </tr>\n",
       "    <tr>\n",
       "      <th>25670</th>\n",
       "      <td>Layup Shot</td>\n",
       "      <td>3</td>\n",
       "      <td>1</td>\n",
       "      <td>1999-00</td>\n",
       "      <td>2</td>\n",
       "      <td>Center(C)</td>\n",
       "      <td>IND</td>\n",
       "      <td>0</td>\n",
       "      <td>358</td>\n",
       "      <td>0.0</td>\n",
       "    </tr>\n",
       "    <tr>\n",
       "      <th>25671</th>\n",
       "      <td>Jump Shot</td>\n",
       "      <td>3</td>\n",
       "      <td>1</td>\n",
       "      <td>1999-00</td>\n",
       "      <td>18</td>\n",
       "      <td>Left Side Center(LC)</td>\n",
       "      <td>IND</td>\n",
       "      <td>0</td>\n",
       "      <td>244</td>\n",
       "      <td>0.0</td>\n",
       "    </tr>\n",
       "    <tr>\n",
       "      <th>25672</th>\n",
       "      <td>Jump Shot</td>\n",
       "      <td>4</td>\n",
       "      <td>1</td>\n",
       "      <td>1999-00</td>\n",
       "      <td>25</td>\n",
       "      <td>Center(C)</td>\n",
       "      <td>IND</td>\n",
       "      <td>0</td>\n",
       "      <td>573</td>\n",
       "      <td>0.0</td>\n",
       "    </tr>\n",
       "    <tr>\n",
       "      <th>25673</th>\n",
       "      <td>Jump Shot</td>\n",
       "      <td>4</td>\n",
       "      <td>1</td>\n",
       "      <td>1999-00</td>\n",
       "      <td>17</td>\n",
       "      <td>Right Side(R)</td>\n",
       "      <td>IND</td>\n",
       "      <td>0</td>\n",
       "      <td>228</td>\n",
       "      <td>0.0</td>\n",
       "    </tr>\n",
       "    <tr>\n",
       "      <th>25674</th>\n",
       "      <td>Running Jump Shot</td>\n",
       "      <td>1</td>\n",
       "      <td>1</td>\n",
       "      <td>1999-00</td>\n",
       "      <td>7</td>\n",
       "      <td>Center(C)</td>\n",
       "      <td>IND</td>\n",
       "      <td>1</td>\n",
       "      <td>574</td>\n",
       "      <td>0.0</td>\n",
       "    </tr>\n",
       "    <tr>\n",
       "      <th>25675</th>\n",
       "      <td>Driving Layup Shot</td>\n",
       "      <td>1</td>\n",
       "      <td>1</td>\n",
       "      <td>1999-00</td>\n",
       "      <td>0</td>\n",
       "      <td>Center(C)</td>\n",
       "      <td>IND</td>\n",
       "      <td>1</td>\n",
       "      <td>531</td>\n",
       "      <td>0.0</td>\n",
       "    </tr>\n",
       "    <tr>\n",
       "      <th>25676</th>\n",
       "      <td>Jump Shot</td>\n",
       "      <td>1</td>\n",
       "      <td>1</td>\n",
       "      <td>1999-00</td>\n",
       "      <td>10</td>\n",
       "      <td>Right Side(R)</td>\n",
       "      <td>IND</td>\n",
       "      <td>1</td>\n",
       "      <td>489</td>\n",
       "      <td>1.0</td>\n",
       "    </tr>\n",
       "    <tr>\n",
       "      <th>25677</th>\n",
       "      <td>Jump Shot</td>\n",
       "      <td>1</td>\n",
       "      <td>1</td>\n",
       "      <td>1999-00</td>\n",
       "      <td>11</td>\n",
       "      <td>Right Side(R)</td>\n",
       "      <td>IND</td>\n",
       "      <td>1</td>\n",
       "      <td>434</td>\n",
       "      <td>0.0</td>\n",
       "    </tr>\n",
       "    <tr>\n",
       "      <th>25678</th>\n",
       "      <td>Jump Shot</td>\n",
       "      <td>1</td>\n",
       "      <td>1</td>\n",
       "      <td>1999-00</td>\n",
       "      <td>24</td>\n",
       "      <td>Right Side Center(RC)</td>\n",
       "      <td>IND</td>\n",
       "      <td>1</td>\n",
       "      <td>154</td>\n",
       "      <td>1.0</td>\n",
       "    </tr>\n",
       "    <tr>\n",
       "      <th>25679</th>\n",
       "      <td>Jump Shot</td>\n",
       "      <td>1</td>\n",
       "      <td>1</td>\n",
       "      <td>1999-00</td>\n",
       "      <td>25</td>\n",
       "      <td>Left Side Center(LC)</td>\n",
       "      <td>IND</td>\n",
       "      <td>1</td>\n",
       "      <td>120</td>\n",
       "      <td>0.0</td>\n",
       "    </tr>\n",
       "    <tr>\n",
       "      <th>25680</th>\n",
       "      <td>Running Jump Shot</td>\n",
       "      <td>1</td>\n",
       "      <td>1</td>\n",
       "      <td>1999-00</td>\n",
       "      <td>14</td>\n",
       "      <td>Left Side(L)</td>\n",
       "      <td>IND</td>\n",
       "      <td>1</td>\n",
       "      <td>37</td>\n",
       "      <td>1.0</td>\n",
       "    </tr>\n",
       "    <tr>\n",
       "      <th>25681</th>\n",
       "      <td>Jump Shot</td>\n",
       "      <td>1</td>\n",
       "      <td>1</td>\n",
       "      <td>1999-00</td>\n",
       "      <td>18</td>\n",
       "      <td>Left Side Center(LC)</td>\n",
       "      <td>IND</td>\n",
       "      <td>1</td>\n",
       "      <td>1</td>\n",
       "      <td>0.0</td>\n",
       "    </tr>\n",
       "    <tr>\n",
       "      <th>25682</th>\n",
       "      <td>Driving Layup Shot</td>\n",
       "      <td>2</td>\n",
       "      <td>1</td>\n",
       "      <td>1999-00</td>\n",
       "      <td>2</td>\n",
       "      <td>Center(C)</td>\n",
       "      <td>IND</td>\n",
       "      <td>1</td>\n",
       "      <td>214</td>\n",
       "      <td>0.0</td>\n",
       "    </tr>\n",
       "    <tr>\n",
       "      <th>25683</th>\n",
       "      <td>Layup Shot</td>\n",
       "      <td>2</td>\n",
       "      <td>1</td>\n",
       "      <td>1999-00</td>\n",
       "      <td>0</td>\n",
       "      <td>Center(C)</td>\n",
       "      <td>IND</td>\n",
       "      <td>1</td>\n",
       "      <td>41</td>\n",
       "      <td>0.0</td>\n",
       "    </tr>\n",
       "    <tr>\n",
       "      <th>25684</th>\n",
       "      <td>Jump Shot</td>\n",
       "      <td>2</td>\n",
       "      <td>1</td>\n",
       "      <td>1999-00</td>\n",
       "      <td>26</td>\n",
       "      <td>Center(C)</td>\n",
       "      <td>IND</td>\n",
       "      <td>1</td>\n",
       "      <td>2</td>\n",
       "      <td>1.0</td>\n",
       "    </tr>\n",
       "    <tr>\n",
       "      <th>25685</th>\n",
       "      <td>Jump Shot</td>\n",
       "      <td>3</td>\n",
       "      <td>1</td>\n",
       "      <td>1999-00</td>\n",
       "      <td>21</td>\n",
       "      <td>Center(C)</td>\n",
       "      <td>IND</td>\n",
       "      <td>1</td>\n",
       "      <td>651</td>\n",
       "      <td>0.0</td>\n",
       "    </tr>\n",
       "    <tr>\n",
       "      <th>25686</th>\n",
       "      <td>Jump Shot</td>\n",
       "      <td>3</td>\n",
       "      <td>1</td>\n",
       "      <td>1999-00</td>\n",
       "      <td>13</td>\n",
       "      <td>Left Side(L)</td>\n",
       "      <td>IND</td>\n",
       "      <td>1</td>\n",
       "      <td>616</td>\n",
       "      <td>0.0</td>\n",
       "    </tr>\n",
       "    <tr>\n",
       "      <th>25687</th>\n",
       "      <td>Jump Shot</td>\n",
       "      <td>3</td>\n",
       "      <td>1</td>\n",
       "      <td>1999-00</td>\n",
       "      <td>26</td>\n",
       "      <td>Center(C)</td>\n",
       "      <td>IND</td>\n",
       "      <td>1</td>\n",
       "      <td>451</td>\n",
       "      <td>0.0</td>\n",
       "    </tr>\n",
       "    <tr>\n",
       "      <th>25688</th>\n",
       "      <td>Jump Shot</td>\n",
       "      <td>3</td>\n",
       "      <td>1</td>\n",
       "      <td>1999-00</td>\n",
       "      <td>10</td>\n",
       "      <td>Center(C)</td>\n",
       "      <td>IND</td>\n",
       "      <td>1</td>\n",
       "      <td>198</td>\n",
       "      <td>0.0</td>\n",
       "    </tr>\n",
       "    <tr>\n",
       "      <th>25689</th>\n",
       "      <td>Jump Shot</td>\n",
       "      <td>3</td>\n",
       "      <td>1</td>\n",
       "      <td>1999-00</td>\n",
       "      <td>13</td>\n",
       "      <td>Left Side(L)</td>\n",
       "      <td>IND</td>\n",
       "      <td>1</td>\n",
       "      <td>67</td>\n",
       "      <td>1.0</td>\n",
       "    </tr>\n",
       "    <tr>\n",
       "      <th>25690</th>\n",
       "      <td>Jump Shot</td>\n",
       "      <td>3</td>\n",
       "      <td>1</td>\n",
       "      <td>1999-00</td>\n",
       "      <td>67</td>\n",
       "      <td>Back Court(BC)</td>\n",
       "      <td>IND</td>\n",
       "      <td>1</td>\n",
       "      <td>0</td>\n",
       "      <td>0.0</td>\n",
       "    </tr>\n",
       "    <tr>\n",
       "      <th>25691</th>\n",
       "      <td>Jump Shot</td>\n",
       "      <td>4</td>\n",
       "      <td>1</td>\n",
       "      <td>1999-00</td>\n",
       "      <td>15</td>\n",
       "      <td>Left Side(L)</td>\n",
       "      <td>IND</td>\n",
       "      <td>1</td>\n",
       "      <td>697</td>\n",
       "      <td>0.0</td>\n",
       "    </tr>\n",
       "    <tr>\n",
       "      <th>25692</th>\n",
       "      <td>Driving Layup Shot</td>\n",
       "      <td>4</td>\n",
       "      <td>1</td>\n",
       "      <td>1999-00</td>\n",
       "      <td>0</td>\n",
       "      <td>Center(C)</td>\n",
       "      <td>IND</td>\n",
       "      <td>1</td>\n",
       "      <td>424</td>\n",
       "      <td>0.0</td>\n",
       "    </tr>\n",
       "    <tr>\n",
       "      <th>25693</th>\n",
       "      <td>Jump Shot</td>\n",
       "      <td>4</td>\n",
       "      <td>1</td>\n",
       "      <td>1999-00</td>\n",
       "      <td>4</td>\n",
       "      <td>Center(C)</td>\n",
       "      <td>IND</td>\n",
       "      <td>1</td>\n",
       "      <td>365</td>\n",
       "      <td>0.0</td>\n",
       "    </tr>\n",
       "    <tr>\n",
       "      <th>25694</th>\n",
       "      <td>Running Jump Shot</td>\n",
       "      <td>4</td>\n",
       "      <td>1</td>\n",
       "      <td>1999-00</td>\n",
       "      <td>21</td>\n",
       "      <td>Left Side Center(LC)</td>\n",
       "      <td>IND</td>\n",
       "      <td>1</td>\n",
       "      <td>208</td>\n",
       "      <td>1.0</td>\n",
       "    </tr>\n",
       "    <tr>\n",
       "      <th>25695</th>\n",
       "      <td>Jump Shot</td>\n",
       "      <td>4</td>\n",
       "      <td>1</td>\n",
       "      <td>1999-00</td>\n",
       "      <td>26</td>\n",
       "      <td>Center(C)</td>\n",
       "      <td>IND</td>\n",
       "      <td>1</td>\n",
       "      <td>130</td>\n",
       "      <td>0.0</td>\n",
       "    </tr>\n",
       "    <tr>\n",
       "      <th>25696</th>\n",
       "      <td>Jump Shot</td>\n",
       "      <td>4</td>\n",
       "      <td>1</td>\n",
       "      <td>1999-00</td>\n",
       "      <td>7</td>\n",
       "      <td>Center(C)</td>\n",
       "      <td>IND</td>\n",
       "      <td>1</td>\n",
       "      <td>39</td>\n",
       "      <td>0.0</td>\n",
       "    </tr>\n",
       "  </tbody>\n",
       "</table>\n",
       "<p>25697 rows × 10 columns</p>\n",
       "</div>"
      ],
      "text/plain": [
       "              action_type  period  playoffs   season  shot_distance  \\\n",
       "0               Jump Shot       1         0  2000-01             15   \n",
       "1               Jump Shot       1         0  2000-01             16   \n",
       "2               Jump Shot       1         0  2000-01             22   \n",
       "3       Driving Dunk Shot       2         0  2000-01              0   \n",
       "4               Jump Shot       3         0  2000-01             14   \n",
       "5              Layup Shot       3         0  2000-01              0   \n",
       "6               Jump Shot       3         0  2000-01             12   \n",
       "7       Running Jump Shot       3         0  2000-01             12   \n",
       "8               Jump Shot       3         0  2000-01             25   \n",
       "9               Jump Shot       1         0  2000-01             17   \n",
       "10      Running Jump Shot       1         0  2000-01             12   \n",
       "11              Jump Shot       1         0  2000-01              9   \n",
       "12              Jump Shot       1         0  2000-01              5   \n",
       "13              Jump Shot       1         0  2000-01             20   \n",
       "14              Jump Shot       2         0  2000-01             25   \n",
       "15              Jump Shot       3         0  2000-01             16   \n",
       "16              Jump Shot       3         0  2000-01             14   \n",
       "17              Jump Shot       3         0  2000-01             18   \n",
       "18      Running Jump Shot       3         0  2000-01             11   \n",
       "19      Running Jump Shot       3         0  2000-01             18   \n",
       "20      Running Jump Shot       3         0  2000-01              7   \n",
       "21             Layup Shot       3         0  2000-01              0   \n",
       "22              Jump Shot       3         0  2000-01             20   \n",
       "23              Jump Shot       3         0  2000-01             26   \n",
       "24              Jump Shot       4         0  2000-01             19   \n",
       "25              Jump Shot       4         0  2000-01              8   \n",
       "26      Running Jump Shot       4         0  2000-01             12   \n",
       "27              Jump Shot       4         0  2000-01             13   \n",
       "28              Jump Shot       2         0  2000-01             20   \n",
       "29              Jump Shot       2         0  2000-01             27   \n",
       "...                   ...     ...       ...      ...            ...   \n",
       "25667      Slam Dunk Shot       3         1  1999-00              0   \n",
       "25668           Jump Shot       3         1  1999-00              5   \n",
       "25669           Jump Shot       3         1  1999-00             10   \n",
       "25670          Layup Shot       3         1  1999-00              2   \n",
       "25671           Jump Shot       3         1  1999-00             18   \n",
       "25672           Jump Shot       4         1  1999-00             25   \n",
       "25673           Jump Shot       4         1  1999-00             17   \n",
       "25674   Running Jump Shot       1         1  1999-00              7   \n",
       "25675  Driving Layup Shot       1         1  1999-00              0   \n",
       "25676           Jump Shot       1         1  1999-00             10   \n",
       "25677           Jump Shot       1         1  1999-00             11   \n",
       "25678           Jump Shot       1         1  1999-00             24   \n",
       "25679           Jump Shot       1         1  1999-00             25   \n",
       "25680   Running Jump Shot       1         1  1999-00             14   \n",
       "25681           Jump Shot       1         1  1999-00             18   \n",
       "25682  Driving Layup Shot       2         1  1999-00              2   \n",
       "25683          Layup Shot       2         1  1999-00              0   \n",
       "25684           Jump Shot       2         1  1999-00             26   \n",
       "25685           Jump Shot       3         1  1999-00             21   \n",
       "25686           Jump Shot       3         1  1999-00             13   \n",
       "25687           Jump Shot       3         1  1999-00             26   \n",
       "25688           Jump Shot       3         1  1999-00             10   \n",
       "25689           Jump Shot       3         1  1999-00             13   \n",
       "25690           Jump Shot       3         1  1999-00             67   \n",
       "25691           Jump Shot       4         1  1999-00             15   \n",
       "25692  Driving Layup Shot       4         1  1999-00              0   \n",
       "25693           Jump Shot       4         1  1999-00              4   \n",
       "25694   Running Jump Shot       4         1  1999-00             21   \n",
       "25695           Jump Shot       4         1  1999-00             26   \n",
       "25696           Jump Shot       4         1  1999-00              7   \n",
       "\n",
       "              shot_zone_area opponent  home  time_remaining  shot_made_flag  \n",
       "0               Left Side(L)      POR     0             622             0.0  \n",
       "1       Left Side Center(LC)      POR     0             465             1.0  \n",
       "2      Right Side Center(RC)      POR     0             412             0.0  \n",
       "3                  Center(C)      POR     0             379             1.0  \n",
       "4               Left Side(L)      POR     0             572             0.0  \n",
       "5                  Center(C)      POR     0             532             1.0  \n",
       "6               Left Side(L)      POR     0             372             1.0  \n",
       "7                  Center(C)      POR     0             216             0.0  \n",
       "8       Left Side Center(LC)      POR     0             116             0.0  \n",
       "9      Right Side Center(RC)      UTA     1             660             1.0  \n",
       "10              Left Side(L)      UTA     1             429             1.0  \n",
       "11              Left Side(L)      UTA     1             164             0.0  \n",
       "12                 Center(C)      UTA     1              76             0.0  \n",
       "13                 Center(C)      UTA     1              48             0.0  \n",
       "14      Left Side Center(LC)      UTA     1             530             1.0  \n",
       "15      Left Side Center(LC)      UTA     1             689             0.0  \n",
       "16                 Center(C)      UTA     1             608             0.0  \n",
       "17     Right Side Center(RC)      UTA     1             544             0.0  \n",
       "18                 Center(C)      UTA     1             477             1.0  \n",
       "19      Left Side Center(LC)      UTA     1             347             1.0  \n",
       "20                 Center(C)      UTA     1             311             1.0  \n",
       "21                 Center(C)      UTA     1             156             0.0  \n",
       "22                 Center(C)      UTA     1             124             0.0  \n",
       "23      Left Side Center(LC)      UTA     1              30             0.0  \n",
       "24     Right Side Center(RC)      UTA     1             499             0.0  \n",
       "25                 Center(C)      UTA     1             382             0.0  \n",
       "26             Right Side(R)      UTA     1              80             1.0  \n",
       "27             Right Side(R)      UTA     1              30             0.0  \n",
       "28     Right Side Center(RC)      VAN     0             210             1.0  \n",
       "29                 Center(C)      VAN     0               4             1.0  \n",
       "...                      ...      ...   ...             ...             ...  \n",
       "25667              Center(C)      IND     0             598             1.0  \n",
       "25668              Center(C)      IND     0             512             0.0  \n",
       "25669          Right Side(R)      IND     0             396             0.0  \n",
       "25670              Center(C)      IND     0             358             0.0  \n",
       "25671   Left Side Center(LC)      IND     0             244             0.0  \n",
       "25672              Center(C)      IND     0             573             0.0  \n",
       "25673          Right Side(R)      IND     0             228             0.0  \n",
       "25674              Center(C)      IND     1             574             0.0  \n",
       "25675              Center(C)      IND     1             531             0.0  \n",
       "25676          Right Side(R)      IND     1             489             1.0  \n",
       "25677          Right Side(R)      IND     1             434             0.0  \n",
       "25678  Right Side Center(RC)      IND     1             154             1.0  \n",
       "25679   Left Side Center(LC)      IND     1             120             0.0  \n",
       "25680           Left Side(L)      IND     1              37             1.0  \n",
       "25681   Left Side Center(LC)      IND     1               1             0.0  \n",
       "25682              Center(C)      IND     1             214             0.0  \n",
       "25683              Center(C)      IND     1              41             0.0  \n",
       "25684              Center(C)      IND     1               2             1.0  \n",
       "25685              Center(C)      IND     1             651             0.0  \n",
       "25686           Left Side(L)      IND     1             616             0.0  \n",
       "25687              Center(C)      IND     1             451             0.0  \n",
       "25688              Center(C)      IND     1             198             0.0  \n",
       "25689           Left Side(L)      IND     1              67             1.0  \n",
       "25690         Back Court(BC)      IND     1               0             0.0  \n",
       "25691           Left Side(L)      IND     1             697             0.0  \n",
       "25692              Center(C)      IND     1             424             0.0  \n",
       "25693              Center(C)      IND     1             365             0.0  \n",
       "25694   Left Side Center(LC)      IND     1             208             1.0  \n",
       "25695              Center(C)      IND     1             130             0.0  \n",
       "25696              Center(C)      IND     1              39             0.0  \n",
       "\n",
       "[25697 rows x 10 columns]"
      ]
     },
     "execution_count": 9,
     "metadata": {},
     "output_type": "execute_result"
    }
   ],
   "source": [
    "df"
   ]
  },
  {
   "cell_type": "code",
   "execution_count": null,
   "metadata": {
    "collapsed": false
   },
   "outputs": [],
   "source": []
  },
  {
   "cell_type": "code",
   "execution_count": null,
   "metadata": {
    "collapsed": false
   },
   "outputs": [],
   "source": [
    "original_df = df.copy()"
   ]
  },
  {
   "cell_type": "code",
   "execution_count": null,
   "metadata": {
    "collapsed": true
   },
   "outputs": [],
   "source": []
  },
  {
   "cell_type": "code",
   "execution_count": null,
   "metadata": {
    "collapsed": true
   },
   "outputs": [],
   "source": []
  },
  {
   "cell_type": "code",
   "execution_count": null,
   "metadata": {
    "collapsed": true
   },
   "outputs": [],
   "source": []
  },
  {
   "cell_type": "code",
   "execution_count": null,
   "metadata": {
    "collapsed": true
   },
   "outputs": [],
   "source": []
  },
  {
   "cell_type": "code",
   "execution_count": null,
   "metadata": {
    "collapsed": true
   },
   "outputs": [],
   "source": [
    "q75 = np.percentile(df.shot_distance, 75)"
   ]
  },
  {
   "cell_type": "code",
   "execution_count": null,
   "metadata": {
    "collapsed": false
   },
   "outputs": [],
   "source": [
    "q75"
   ]
  },
  {
   "cell_type": "code",
   "execution_count": null,
   "metadata": {
    "collapsed": false,
    "scrolled": true
   },
   "outputs": [],
   "source": [
    "df['shot_distance'] = df.shot_distance.clip(upper=45)"
   ]
  },
  {
   "cell_type": "code",
   "execution_count": null,
   "metadata": {
    "collapsed": true
   },
   "outputs": [],
   "source": []
  },
  {
   "cell_type": "code",
   "execution_count": null,
   "metadata": {
    "collapsed": true
   },
   "outputs": [],
   "source": [
    "from sklearn.preprocessing import StandardScaler"
   ]
  },
  {
   "cell_type": "code",
   "execution_count": null,
   "metadata": {
    "collapsed": true
   },
   "outputs": [],
   "source": [
    "scaler = StandardScaler()"
   ]
  },
  {
   "cell_type": "code",
   "execution_count": null,
   "metadata": {
    "collapsed": false
   },
   "outputs": [],
   "source": [
    "df['time_remaining'] = scaler.fit_transform(df.time_remaining.reshape(-1, 1)).reshape(-1, 1)"
   ]
  },
  {
   "cell_type": "code",
   "execution_count": null,
   "metadata": {
    "collapsed": true
   },
   "outputs": [],
   "source": []
  },
  {
   "cell_type": "code",
   "execution_count": null,
   "metadata": {
    "collapsed": false
   },
   "outputs": [],
   "source": [
    "dist_scaler = StandardScaler()\n",
    "df['shot_distance'] = dist_scaler.fit_transform(df.shot_distance.reshape(-1, 1)).reshape(-1, 1)"
   ]
  },
  {
   "cell_type": "code",
   "execution_count": null,
   "metadata": {
    "collapsed": true
   },
   "outputs": [],
   "source": []
  },
  {
   "cell_type": "code",
   "execution_count": null,
   "metadata": {
    "collapsed": false
   },
   "outputs": [],
   "source": [
    "df['shot_zone_area'] = df.shot_zone_area.str.extract('\\((\\w).*\\)')"
   ]
  },
  {
   "cell_type": "code",
   "execution_count": null,
   "metadata": {
    "collapsed": true
   },
   "outputs": [],
   "source": []
  },
  {
   "cell_type": "code",
   "execution_count": null,
   "metadata": {
    "collapsed": true
   },
   "outputs": [],
   "source": [
    "df['period'] = df.period.clip(upper=5)"
   ]
  },
  {
   "cell_type": "code",
   "execution_count": null,
   "metadata": {
    "collapsed": true
   },
   "outputs": [],
   "source": []
  },
  {
   "cell_type": "code",
   "execution_count": null,
   "metadata": {
    "collapsed": false
   },
   "outputs": [],
   "source": [
    "df.head()"
   ]
  },
  {
   "cell_type": "code",
   "execution_count": null,
   "metadata": {
    "collapsed": true
   },
   "outputs": [],
   "source": []
  },
  {
   "cell_type": "code",
   "execution_count": null,
   "metadata": {
    "collapsed": true
   },
   "outputs": [],
   "source": []
  },
  {
   "cell_type": "code",
   "execution_count": 10,
   "metadata": {
    "collapsed": false
   },
   "outputs": [],
   "source": [
    "# turn categorical variables into dummy variables\n",
    "categorical_vars = ['season', 'period', 'shot_zone_area', 'opponent', 'action_type']\n",
    "for var in categorical_vars:\n",
    "    df = pd.concat([df, pd.get_dummies(df[var], prefix=var)], 1)\n",
    "    df = df.drop(var, 1)"
   ]
  },
  {
   "cell_type": "code",
   "execution_count": 11,
   "metadata": {
    "collapsed": false
   },
   "outputs": [
    {
     "data": {
      "text/html": [
       "<div>\n",
       "<table border=\"1\" class=\"dataframe\">\n",
       "  <thead>\n",
       "    <tr style=\"text-align: right;\">\n",
       "      <th></th>\n",
       "      <th>playoffs</th>\n",
       "      <th>shot_distance</th>\n",
       "      <th>home</th>\n",
       "      <th>time_remaining</th>\n",
       "      <th>shot_made_flag</th>\n",
       "      <th>season_1996-97</th>\n",
       "      <th>season_1997-98</th>\n",
       "      <th>season_1998-99</th>\n",
       "      <th>season_1999-00</th>\n",
       "      <th>season_2000-01</th>\n",
       "      <th>...</th>\n",
       "      <th>action_type_Running Tip Shot</th>\n",
       "      <th>action_type_Slam Dunk Shot</th>\n",
       "      <th>action_type_Step Back Jump shot</th>\n",
       "      <th>action_type_Tip Layup Shot</th>\n",
       "      <th>action_type_Tip Shot</th>\n",
       "      <th>action_type_Turnaround Bank shot</th>\n",
       "      <th>action_type_Turnaround Fadeaway shot</th>\n",
       "      <th>action_type_Turnaround Finger Roll Shot</th>\n",
       "      <th>action_type_Turnaround Hook Shot</th>\n",
       "      <th>action_type_Turnaround Jump Shot</th>\n",
       "    </tr>\n",
       "  </thead>\n",
       "  <tbody>\n",
       "    <tr>\n",
       "      <th>0</th>\n",
       "      <td>0</td>\n",
       "      <td>15</td>\n",
       "      <td>0</td>\n",
       "      <td>622</td>\n",
       "      <td>0.0</td>\n",
       "      <td>0.0</td>\n",
       "      <td>0.0</td>\n",
       "      <td>0.0</td>\n",
       "      <td>0.0</td>\n",
       "      <td>1.0</td>\n",
       "      <td>...</td>\n",
       "      <td>0.0</td>\n",
       "      <td>0.0</td>\n",
       "      <td>0.0</td>\n",
       "      <td>0.0</td>\n",
       "      <td>0.0</td>\n",
       "      <td>0.0</td>\n",
       "      <td>0.0</td>\n",
       "      <td>0.0</td>\n",
       "      <td>0.0</td>\n",
       "      <td>0.0</td>\n",
       "    </tr>\n",
       "    <tr>\n",
       "      <th>1</th>\n",
       "      <td>0</td>\n",
       "      <td>16</td>\n",
       "      <td>0</td>\n",
       "      <td>465</td>\n",
       "      <td>1.0</td>\n",
       "      <td>0.0</td>\n",
       "      <td>0.0</td>\n",
       "      <td>0.0</td>\n",
       "      <td>0.0</td>\n",
       "      <td>1.0</td>\n",
       "      <td>...</td>\n",
       "      <td>0.0</td>\n",
       "      <td>0.0</td>\n",
       "      <td>0.0</td>\n",
       "      <td>0.0</td>\n",
       "      <td>0.0</td>\n",
       "      <td>0.0</td>\n",
       "      <td>0.0</td>\n",
       "      <td>0.0</td>\n",
       "      <td>0.0</td>\n",
       "      <td>0.0</td>\n",
       "    </tr>\n",
       "    <tr>\n",
       "      <th>2</th>\n",
       "      <td>0</td>\n",
       "      <td>22</td>\n",
       "      <td>0</td>\n",
       "      <td>412</td>\n",
       "      <td>0.0</td>\n",
       "      <td>0.0</td>\n",
       "      <td>0.0</td>\n",
       "      <td>0.0</td>\n",
       "      <td>0.0</td>\n",
       "      <td>1.0</td>\n",
       "      <td>...</td>\n",
       "      <td>0.0</td>\n",
       "      <td>0.0</td>\n",
       "      <td>0.0</td>\n",
       "      <td>0.0</td>\n",
       "      <td>0.0</td>\n",
       "      <td>0.0</td>\n",
       "      <td>0.0</td>\n",
       "      <td>0.0</td>\n",
       "      <td>0.0</td>\n",
       "      <td>0.0</td>\n",
       "    </tr>\n",
       "    <tr>\n",
       "      <th>3</th>\n",
       "      <td>0</td>\n",
       "      <td>0</td>\n",
       "      <td>0</td>\n",
       "      <td>379</td>\n",
       "      <td>1.0</td>\n",
       "      <td>0.0</td>\n",
       "      <td>0.0</td>\n",
       "      <td>0.0</td>\n",
       "      <td>0.0</td>\n",
       "      <td>1.0</td>\n",
       "      <td>...</td>\n",
       "      <td>0.0</td>\n",
       "      <td>0.0</td>\n",
       "      <td>0.0</td>\n",
       "      <td>0.0</td>\n",
       "      <td>0.0</td>\n",
       "      <td>0.0</td>\n",
       "      <td>0.0</td>\n",
       "      <td>0.0</td>\n",
       "      <td>0.0</td>\n",
       "      <td>0.0</td>\n",
       "    </tr>\n",
       "    <tr>\n",
       "      <th>4</th>\n",
       "      <td>0</td>\n",
       "      <td>14</td>\n",
       "      <td>0</td>\n",
       "      <td>572</td>\n",
       "      <td>0.0</td>\n",
       "      <td>0.0</td>\n",
       "      <td>0.0</td>\n",
       "      <td>0.0</td>\n",
       "      <td>0.0</td>\n",
       "      <td>1.0</td>\n",
       "      <td>...</td>\n",
       "      <td>0.0</td>\n",
       "      <td>0.0</td>\n",
       "      <td>0.0</td>\n",
       "      <td>0.0</td>\n",
       "      <td>0.0</td>\n",
       "      <td>0.0</td>\n",
       "      <td>0.0</td>\n",
       "      <td>0.0</td>\n",
       "      <td>0.0</td>\n",
       "      <td>0.0</td>\n",
       "    </tr>\n",
       "  </tbody>\n",
       "</table>\n",
       "<p>5 rows × 126 columns</p>\n",
       "</div>"
      ],
      "text/plain": [
       "   playoffs  shot_distance  home  time_remaining  shot_made_flag  \\\n",
       "0         0             15     0             622             0.0   \n",
       "1         0             16     0             465             1.0   \n",
       "2         0             22     0             412             0.0   \n",
       "3         0              0     0             379             1.0   \n",
       "4         0             14     0             572             0.0   \n",
       "\n",
       "   season_1996-97  season_1997-98  season_1998-99  season_1999-00  \\\n",
       "0             0.0             0.0             0.0             0.0   \n",
       "1             0.0             0.0             0.0             0.0   \n",
       "2             0.0             0.0             0.0             0.0   \n",
       "3             0.0             0.0             0.0             0.0   \n",
       "4             0.0             0.0             0.0             0.0   \n",
       "\n",
       "   season_2000-01                ...                 \\\n",
       "0             1.0                ...                  \n",
       "1             1.0                ...                  \n",
       "2             1.0                ...                  \n",
       "3             1.0                ...                  \n",
       "4             1.0                ...                  \n",
       "\n",
       "   action_type_Running Tip Shot  action_type_Slam Dunk Shot  \\\n",
       "0                           0.0                         0.0   \n",
       "1                           0.0                         0.0   \n",
       "2                           0.0                         0.0   \n",
       "3                           0.0                         0.0   \n",
       "4                           0.0                         0.0   \n",
       "\n",
       "   action_type_Step Back Jump shot  action_type_Tip Layup Shot  \\\n",
       "0                              0.0                         0.0   \n",
       "1                              0.0                         0.0   \n",
       "2                              0.0                         0.0   \n",
       "3                              0.0                         0.0   \n",
       "4                              0.0                         0.0   \n",
       "\n",
       "   action_type_Tip Shot  action_type_Turnaround Bank shot  \\\n",
       "0                   0.0                               0.0   \n",
       "1                   0.0                               0.0   \n",
       "2                   0.0                               0.0   \n",
       "3                   0.0                               0.0   \n",
       "4                   0.0                               0.0   \n",
       "\n",
       "   action_type_Turnaround Fadeaway shot  \\\n",
       "0                                   0.0   \n",
       "1                                   0.0   \n",
       "2                                   0.0   \n",
       "3                                   0.0   \n",
       "4                                   0.0   \n",
       "\n",
       "   action_type_Turnaround Finger Roll Shot  action_type_Turnaround Hook Shot  \\\n",
       "0                                      0.0                               0.0   \n",
       "1                                      0.0                               0.0   \n",
       "2                                      0.0                               0.0   \n",
       "3                                      0.0                               0.0   \n",
       "4                                      0.0                               0.0   \n",
       "\n",
       "   action_type_Turnaround Jump Shot  \n",
       "0                               0.0  \n",
       "1                               0.0  \n",
       "2                               0.0  \n",
       "3                               0.0  \n",
       "4                               0.0  \n",
       "\n",
       "[5 rows x 126 columns]"
      ]
     },
     "execution_count": 11,
     "metadata": {},
     "output_type": "execute_result"
    }
   ],
   "source": [
    "df.head()"
   ]
  },
  {
   "cell_type": "code",
   "execution_count": null,
   "metadata": {
    "collapsed": true
   },
   "outputs": [],
   "source": []
  },
  {
   "cell_type": "code",
   "execution_count": 12,
   "metadata": {
    "collapsed": true
   },
   "outputs": [],
   "source": [
    "from sklearn.ensemble import RandomForestClassifier\n",
    "from sklearn.metrics import confusion_matrix, log_loss\n",
    "from sklearn.cross_validation import train_test_split"
   ]
  },
  {
   "cell_type": "code",
   "execution_count": 13,
   "metadata": {
    "collapsed": false
   },
   "outputs": [],
   "source": [
    "X_train, X_test, y_train, y_test = train_test_split(df.drop('shot_made_flag', axis=1), \n",
    "                                                    df['shot_made_flag'], \n",
    "                                                    test_size=0.33, \n",
    "                                                    random_state=42)"
   ]
  },
  {
   "cell_type": "code",
   "execution_count": 14,
   "metadata": {
    "collapsed": false
   },
   "outputs": [
    {
     "data": {
      "text/html": [
       "<div>\n",
       "<table border=\"1\" class=\"dataframe\">\n",
       "  <thead>\n",
       "    <tr style=\"text-align: right;\">\n",
       "      <th></th>\n",
       "      <th>playoffs</th>\n",
       "      <th>shot_distance</th>\n",
       "      <th>home</th>\n",
       "      <th>time_remaining</th>\n",
       "      <th>season_1996-97</th>\n",
       "      <th>season_1997-98</th>\n",
       "      <th>season_1998-99</th>\n",
       "      <th>season_1999-00</th>\n",
       "      <th>season_2000-01</th>\n",
       "      <th>season_2001-02</th>\n",
       "      <th>...</th>\n",
       "      <th>action_type_Running Tip Shot</th>\n",
       "      <th>action_type_Slam Dunk Shot</th>\n",
       "      <th>action_type_Step Back Jump shot</th>\n",
       "      <th>action_type_Tip Layup Shot</th>\n",
       "      <th>action_type_Tip Shot</th>\n",
       "      <th>action_type_Turnaround Bank shot</th>\n",
       "      <th>action_type_Turnaround Fadeaway shot</th>\n",
       "      <th>action_type_Turnaround Finger Roll Shot</th>\n",
       "      <th>action_type_Turnaround Hook Shot</th>\n",
       "      <th>action_type_Turnaround Jump Shot</th>\n",
       "    </tr>\n",
       "  </thead>\n",
       "  <tbody>\n",
       "    <tr>\n",
       "      <th>1119</th>\n",
       "      <td>0</td>\n",
       "      <td>17</td>\n",
       "      <td>0</td>\n",
       "      <td>417</td>\n",
       "      <td>0.0</td>\n",
       "      <td>0.0</td>\n",
       "      <td>0.0</td>\n",
       "      <td>0.0</td>\n",
       "      <td>1.0</td>\n",
       "      <td>0.0</td>\n",
       "      <td>...</td>\n",
       "      <td>0.0</td>\n",
       "      <td>0.0</td>\n",
       "      <td>0.0</td>\n",
       "      <td>0.0</td>\n",
       "      <td>0.0</td>\n",
       "      <td>0.0</td>\n",
       "      <td>0.0</td>\n",
       "      <td>0.0</td>\n",
       "      <td>0.0</td>\n",
       "      <td>0.0</td>\n",
       "    </tr>\n",
       "    <tr>\n",
       "      <th>14464</th>\n",
       "      <td>0</td>\n",
       "      <td>8</td>\n",
       "      <td>1</td>\n",
       "      <td>221</td>\n",
       "      <td>0.0</td>\n",
       "      <td>0.0</td>\n",
       "      <td>0.0</td>\n",
       "      <td>0.0</td>\n",
       "      <td>0.0</td>\n",
       "      <td>0.0</td>\n",
       "      <td>...</td>\n",
       "      <td>0.0</td>\n",
       "      <td>0.0</td>\n",
       "      <td>0.0</td>\n",
       "      <td>0.0</td>\n",
       "      <td>0.0</td>\n",
       "      <td>0.0</td>\n",
       "      <td>0.0</td>\n",
       "      <td>0.0</td>\n",
       "      <td>0.0</td>\n",
       "      <td>0.0</td>\n",
       "    </tr>\n",
       "    <tr>\n",
       "      <th>8725</th>\n",
       "      <td>0</td>\n",
       "      <td>20</td>\n",
       "      <td>0</td>\n",
       "      <td>707</td>\n",
       "      <td>0.0</td>\n",
       "      <td>0.0</td>\n",
       "      <td>0.0</td>\n",
       "      <td>0.0</td>\n",
       "      <td>0.0</td>\n",
       "      <td>0.0</td>\n",
       "      <td>...</td>\n",
       "      <td>0.0</td>\n",
       "      <td>0.0</td>\n",
       "      <td>0.0</td>\n",
       "      <td>0.0</td>\n",
       "      <td>0.0</td>\n",
       "      <td>0.0</td>\n",
       "      <td>0.0</td>\n",
       "      <td>0.0</td>\n",
       "      <td>0.0</td>\n",
       "      <td>0.0</td>\n",
       "    </tr>\n",
       "    <tr>\n",
       "      <th>20743</th>\n",
       "      <td>0</td>\n",
       "      <td>0</td>\n",
       "      <td>0</td>\n",
       "      <td>18</td>\n",
       "      <td>0.0</td>\n",
       "      <td>0.0</td>\n",
       "      <td>1.0</td>\n",
       "      <td>0.0</td>\n",
       "      <td>0.0</td>\n",
       "      <td>0.0</td>\n",
       "      <td>...</td>\n",
       "      <td>0.0</td>\n",
       "      <td>0.0</td>\n",
       "      <td>0.0</td>\n",
       "      <td>0.0</td>\n",
       "      <td>0.0</td>\n",
       "      <td>0.0</td>\n",
       "      <td>0.0</td>\n",
       "      <td>0.0</td>\n",
       "      <td>0.0</td>\n",
       "      <td>0.0</td>\n",
       "    </tr>\n",
       "    <tr>\n",
       "      <th>24844</th>\n",
       "      <td>1</td>\n",
       "      <td>25</td>\n",
       "      <td>1</td>\n",
       "      <td>2</td>\n",
       "      <td>0.0</td>\n",
       "      <td>0.0</td>\n",
       "      <td>0.0</td>\n",
       "      <td>0.0</td>\n",
       "      <td>0.0</td>\n",
       "      <td>0.0</td>\n",
       "      <td>...</td>\n",
       "      <td>0.0</td>\n",
       "      <td>0.0</td>\n",
       "      <td>0.0</td>\n",
       "      <td>0.0</td>\n",
       "      <td>0.0</td>\n",
       "      <td>0.0</td>\n",
       "      <td>0.0</td>\n",
       "      <td>0.0</td>\n",
       "      <td>0.0</td>\n",
       "      <td>0.0</td>\n",
       "    </tr>\n",
       "  </tbody>\n",
       "</table>\n",
       "<p>5 rows × 125 columns</p>\n",
       "</div>"
      ],
      "text/plain": [
       "       playoffs  shot_distance  home  time_remaining  season_1996-97  \\\n",
       "1119          0             17     0             417             0.0   \n",
       "14464         0              8     1             221             0.0   \n",
       "8725          0             20     0             707             0.0   \n",
       "20743         0              0     0              18             0.0   \n",
       "24844         1             25     1               2             0.0   \n",
       "\n",
       "       season_1997-98  season_1998-99  season_1999-00  season_2000-01  \\\n",
       "1119              0.0             0.0             0.0             1.0   \n",
       "14464             0.0             0.0             0.0             0.0   \n",
       "8725              0.0             0.0             0.0             0.0   \n",
       "20743             0.0             1.0             0.0             0.0   \n",
       "24844             0.0             0.0             0.0             0.0   \n",
       "\n",
       "       season_2001-02                ...                 \\\n",
       "1119              0.0                ...                  \n",
       "14464             0.0                ...                  \n",
       "8725              0.0                ...                  \n",
       "20743             0.0                ...                  \n",
       "24844             0.0                ...                  \n",
       "\n",
       "       action_type_Running Tip Shot  action_type_Slam Dunk Shot  \\\n",
       "1119                            0.0                         0.0   \n",
       "14464                           0.0                         0.0   \n",
       "8725                            0.0                         0.0   \n",
       "20743                           0.0                         0.0   \n",
       "24844                           0.0                         0.0   \n",
       "\n",
       "       action_type_Step Back Jump shot  action_type_Tip Layup Shot  \\\n",
       "1119                               0.0                         0.0   \n",
       "14464                              0.0                         0.0   \n",
       "8725                               0.0                         0.0   \n",
       "20743                              0.0                         0.0   \n",
       "24844                              0.0                         0.0   \n",
       "\n",
       "       action_type_Tip Shot  action_type_Turnaround Bank shot  \\\n",
       "1119                    0.0                               0.0   \n",
       "14464                   0.0                               0.0   \n",
       "8725                    0.0                               0.0   \n",
       "20743                   0.0                               0.0   \n",
       "24844                   0.0                               0.0   \n",
       "\n",
       "       action_type_Turnaround Fadeaway shot  \\\n",
       "1119                                    0.0   \n",
       "14464                                   0.0   \n",
       "8725                                    0.0   \n",
       "20743                                   0.0   \n",
       "24844                                   0.0   \n",
       "\n",
       "       action_type_Turnaround Finger Roll Shot  \\\n",
       "1119                                       0.0   \n",
       "14464                                      0.0   \n",
       "8725                                       0.0   \n",
       "20743                                      0.0   \n",
       "24844                                      0.0   \n",
       "\n",
       "       action_type_Turnaround Hook Shot  action_type_Turnaround Jump Shot  \n",
       "1119                                0.0                               0.0  \n",
       "14464                               0.0                               0.0  \n",
       "8725                                0.0                               0.0  \n",
       "20743                               0.0                               0.0  \n",
       "24844                               0.0                               0.0  \n",
       "\n",
       "[5 rows x 125 columns]"
      ]
     },
     "execution_count": 14,
     "metadata": {},
     "output_type": "execute_result"
    }
   ],
   "source": [
    "X_train.head()"
   ]
  },
  {
   "cell_type": "code",
   "execution_count": 15,
   "metadata": {
    "collapsed": false
   },
   "outputs": [
    {
     "data": {
      "text/plain": [
       "1119     1.0\n",
       "14464    0.0\n",
       "8725     1.0\n",
       "20743    0.0\n",
       "24844    0.0\n",
       "Name: shot_made_flag, dtype: float64"
      ]
     },
     "execution_count": 15,
     "metadata": {},
     "output_type": "execute_result"
    }
   ],
   "source": [
    "y_train.head()"
   ]
  },
  {
   "cell_type": "code",
   "execution_count": null,
   "metadata": {
    "collapsed": true
   },
   "outputs": [],
   "source": []
  },
  {
   "cell_type": "code",
   "execution_count": null,
   "metadata": {
    "collapsed": true
   },
   "outputs": [],
   "source": [
    "model = RandomForestClassifier(n_estimators=45, max_depth=14, criterion='entropy', random_state=42, n_jobs=-1)"
   ]
  },
  {
   "cell_type": "code",
   "execution_count": null,
   "metadata": {
    "collapsed": false
   },
   "outputs": [],
   "source": [
    "model.fit(X_train, y_train)"
   ]
  },
  {
   "cell_type": "code",
   "execution_count": null,
   "metadata": {
    "collapsed": false
   },
   "outputs": [],
   "source": [
    "y_pred = model.predict(X_test)"
   ]
  },
  {
   "cell_type": "code",
   "execution_count": null,
   "metadata": {
    "collapsed": true
   },
   "outputs": [],
   "source": [
    "y_pred_proba = model.predict_proba(X_test)"
   ]
  },
  {
   "cell_type": "code",
   "execution_count": null,
   "metadata": {
    "collapsed": false
   },
   "outputs": [],
   "source": [
    "confusion_matrix(y_test, y_pred), log_loss(y_test, y_pred_proba[:,1])"
   ]
  },
  {
   "cell_type": "code",
   "execution_count": null,
   "metadata": {
    "collapsed": true
   },
   "outputs": [],
   "source": []
  },
  {
   "cell_type": "code",
   "execution_count": null,
   "metadata": {
    "collapsed": false
   },
   "outputs": [],
   "source": [
    "pd.DataFrame({'feature': X_train.columns, \n",
    "              'importance': model.feature_importances_}).sort_values('importance', ascending=False).head()"
   ]
  },
  {
   "cell_type": "code",
   "execution_count": null,
   "metadata": {
    "collapsed": true
   },
   "outputs": [],
   "source": []
  },
  {
   "cell_type": "code",
   "execution_count": null,
   "metadata": {
    "collapsed": true
   },
   "outputs": [],
   "source": []
  },
  {
   "cell_type": "code",
   "execution_count": null,
   "metadata": {
    "collapsed": true
   },
   "outputs": [],
   "source": []
  },
  {
   "cell_type": "code",
   "execution_count": null,
   "metadata": {
    "collapsed": false
   },
   "outputs": [],
   "source": [
    "pred_df = original_df.join(pd.DataFrame(y_pred, columns=['shot_made_pred'], index=X_test.index))"
   ]
  },
  {
   "cell_type": "code",
   "execution_count": null,
   "metadata": {
    "collapsed": false
   },
   "outputs": [],
   "source": [
    "pred_df = pred_df[~pred_df.shot_made_pred.isnull()]"
   ]
  },
  {
   "cell_type": "code",
   "execution_count": null,
   "metadata": {
    "collapsed": false
   },
   "outputs": [],
   "source": [
    "pred_df.head()"
   ]
  },
  {
   "cell_type": "code",
   "execution_count": null,
   "metadata": {
    "collapsed": true
   },
   "outputs": [],
   "source": []
  },
  {
   "cell_type": "code",
   "execution_count": null,
   "metadata": {
    "collapsed": false
   },
   "outputs": [],
   "source": [
    "pred_df[(pred_df.shot_made_flag != pred_df.shot_made_pred)]"
   ]
  },
  {
   "cell_type": "code",
   "execution_count": null,
   "metadata": {
    "collapsed": false
   },
   "outputs": [],
   "source": []
  },
  {
   "cell_type": "code",
   "execution_count": null,
   "metadata": {
    "collapsed": true
   },
   "outputs": [],
   "source": []
  },
  {
   "cell_type": "code",
   "execution_count": null,
   "metadata": {
    "collapsed": true
   },
   "outputs": [],
   "source": [
    "# TODO: Other models\n",
    "# Guess by prev shot? Is it even leagle?\n",
    "# 'action_type' made a huge diff! Why?"
   ]
  },
  {
   "cell_type": "code",
   "execution_count": null,
   "metadata": {
    "collapsed": true
   },
   "outputs": [],
   "source": []
  },
  {
   "cell_type": "code",
   "execution_count": null,
   "metadata": {
    "collapsed": true
   },
   "outputs": [],
   "source": []
  },
  {
   "cell_type": "code",
   "execution_count": null,
   "metadata": {
    "collapsed": false
   },
   "outputs": [],
   "source": [
    "from sklearn.grid_search import GridSearchCV\n",
    "\n",
    "param_grid={\n",
    "    'n_estimators': range(10, 50, 5), \n",
    "    'max_depth': range(9, 15),\n",
    "    'criterion': ['entropy', 'gini'],\n",
    "}\n",
    "\n",
    "grid = GridSearchCV(RandomForestClassifier(random_state=42, n_jobs=-1), param_grid=param_grid, scoring='log_loss')"
   ]
  },
  {
   "cell_type": "code",
   "execution_count": null,
   "metadata": {
    "collapsed": false
   },
   "outputs": [],
   "source": [
    "grid.fit(X_train, y_train)"
   ]
  },
  {
   "cell_type": "code",
   "execution_count": null,
   "metadata": {
    "collapsed": false
   },
   "outputs": [],
   "source": [
    "grid.best_estimator_"
   ]
  },
  {
   "cell_type": "code",
   "execution_count": null,
   "metadata": {
    "collapsed": false
   },
   "outputs": [],
   "source": [
    "grid.best_score_"
   ]
  },
  {
   "cell_type": "code",
   "execution_count": null,
   "metadata": {
    "collapsed": true
   },
   "outputs": [],
   "source": []
  },
  {
   "cell_type": "code",
   "execution_count": null,
   "metadata": {
    "collapsed": true
   },
   "outputs": [],
   "source": []
  },
  {
   "cell_type": "code",
   "execution_count": null,
   "metadata": {
    "collapsed": false
   },
   "outputs": [],
   "source": [
    "from sklearn.discriminant_analysis import LinearDiscriminantAnalysis\n",
    "lda = LinearDiscriminantAnalysis()"
   ]
  },
  {
   "cell_type": "code",
   "execution_count": null,
   "metadata": {
    "collapsed": false
   },
   "outputs": [],
   "source": [
    "lda.fit(X_train, y_train)"
   ]
  },
  {
   "cell_type": "code",
   "execution_count": null,
   "metadata": {
    "collapsed": false
   },
   "outputs": [],
   "source": [
    "confusion_matrix(lda.predict(X_test), y_test)"
   ]
  },
  {
   "cell_type": "code",
   "execution_count": null,
   "metadata": {
    "collapsed": false
   },
   "outputs": [],
   "source": [
    "log_loss(y_test, lda.predict_proba(X_test))"
   ]
  },
  {
   "cell_type": "code",
   "execution_count": null,
   "metadata": {
    "collapsed": true
   },
   "outputs": [],
   "source": []
  },
  {
   "cell_type": "code",
   "execution_count": null,
   "metadata": {
    "collapsed": true
   },
   "outputs": [],
   "source": [
    "from sklearn.svm import LinearSVC, SVC\n",
    "svc = SVC(probability=True)"
   ]
  },
  {
   "cell_type": "code",
   "execution_count": null,
   "metadata": {
    "collapsed": false
   },
   "outputs": [],
   "source": [
    "svc.fit(X_train, y_train)"
   ]
  },
  {
   "cell_type": "code",
   "execution_count": null,
   "metadata": {
    "collapsed": false
   },
   "outputs": [],
   "source": [
    "confusion_matrix(svc.predict(X_test), y_test)"
   ]
  },
  {
   "cell_type": "code",
   "execution_count": null,
   "metadata": {
    "collapsed": false
   },
   "outputs": [],
   "source": [
    "log_loss(y_test, svc.predict_proba(X_test))"
   ]
  },
  {
   "cell_type": "code",
   "execution_count": null,
   "metadata": {
    "collapsed": true
   },
   "outputs": [],
   "source": []
  },
  {
   "cell_type": "code",
   "execution_count": null,
   "metadata": {
    "collapsed": false
   },
   "outputs": [],
   "source": [
    "from sklearn.grid_search import GridSearchCV\n",
    "from sklearn.svm import LinearSVC, SVC\n",
    "grid = GridSearchCV(estimator=SVC(), param_grid={})"
   ]
  },
  {
   "cell_type": "code",
   "execution_count": null,
   "metadata": {
    "collapsed": false
   },
   "outputs": [],
   "source": [
    "grid.fit(X_train, y_train)"
   ]
  },
  {
   "cell_type": "code",
   "execution_count": null,
   "metadata": {
    "collapsed": false
   },
   "outputs": [],
   "source": [
    "grid.best_estimator_"
   ]
  },
  {
   "cell_type": "code",
   "execution_count": null,
   "metadata": {
    "collapsed": false
   },
   "outputs": [],
   "source": [
    "grid.best_score_"
   ]
  },
  {
   "cell_type": "code",
   "execution_count": null,
   "metadata": {
    "collapsed": true
   },
   "outputs": [],
   "source": []
  },
  {
   "cell_type": "code",
   "execution_count": 31,
   "metadata": {
    "collapsed": true
   },
   "outputs": [],
   "source": [
    "import numpy as np\n",
    "import matplotlib.pyplot as plt\n",
    "from matplotlib.colors import ListedColormap\n",
    "from sklearn.cross_validation import train_test_split\n",
    "from sklearn.preprocessing import StandardScaler\n",
    "from sklearn.datasets import make_moons, make_circles, make_classification\n",
    "from sklearn.neighbors import KNeighborsClassifier\n",
    "from sklearn.svm import SVC\n",
    "from sklearn.tree import DecisionTreeClassifier\n",
    "from sklearn.ensemble import RandomForestClassifier, AdaBoostClassifier\n",
    "from sklearn.naive_bayes import GaussianNB\n",
    "from sklearn.discriminant_analysis import LinearDiscriminantAnalysis\n",
    "from sklearn.discriminant_analysis import QuadraticDiscriminantAnalysis\n",
    "\n",
    "h = .02  # step size in the mesh\n",
    "\n",
    "names = [\"Nearest Neighbors\", \"Linear SVM\", \"RBF SVM\", \"Decision Tree\",\n",
    "         \"Random Forest\", \"AdaBoost\", \"Naive Bayes\", \"Linear Discriminant Analysis\",\n",
    "         \"Quadratic Discriminant Analysis\"]\n",
    "classifiers = [\n",
    "    KNeighborsClassifier(),\n",
    "    #SVC(kernel=\"linear\", C=0.025),\n",
    "    #SVC(gamma=2, C=1),\n",
    "    DecisionTreeClassifier(),\n",
    "    RandomForestClassifier(),\n",
    "    AdaBoostClassifier(),\n",
    "    GaussianNB(),\n",
    "    LinearDiscriminantAnalysis(),\n",
    "    QuadraticDiscriminantAnalysis()]"
   ]
  },
  {
   "cell_type": "code",
   "execution_count": null,
   "metadata": {
    "collapsed": true
   },
   "outputs": [],
   "source": []
  },
  {
   "cell_type": "code",
   "execution_count": 32,
   "metadata": {
    "collapsed": false,
    "scrolled": true
   },
   "outputs": [
    {
     "name": "stdout",
     "output_type": "stream",
     "text": [
      "Nearest Neighbors 1.97002573432\n",
      "Linear SVM 14.5306395681\n",
      "RBF SVM 1.13337980432\n",
      "Decision Tree 0.688622298798\n",
      "Random Forest 8.88358207929\n"
     ]
    },
    {
     "name": "stderr",
     "output_type": "stream",
     "text": [
      "C:\\Anaconda2\\lib\\site-packages\\sklearn\\discriminant_analysis.py:387: UserWarning: Variables are collinear.\n",
      "  warnings.warn(\"Variables are collinear.\")\n",
      "C:\\Anaconda2\\lib\\site-packages\\sklearn\\discriminant_analysis.py:688: UserWarning: Variables are collinear\n",
      "  warnings.warn(\"Variables are collinear\")\n"
     ]
    },
    {
     "name": "stdout",
     "output_type": "stream",
     "text": [
      "AdaBoost 0.618239200953\n",
      "Naive Bayes 16.3820028941\n"
     ]
    }
   ],
   "source": [
    "for name, clf in zip(names, classifiers):\n",
    "    clf.fit(X_train, y_train)\n",
    "    loss = log_loss(y_test,clf.predict_proba(X_test))\n",
    "    \n",
    "    print name, loss"
   ]
  },
  {
   "cell_type": "code",
   "execution_count": 30,
   "metadata": {
    "collapsed": false
   },
   "outputs": [],
   "source": [
    "from sklearn.ensemble import GradientBoostingClassifier"
   ]
  },
  {
   "cell_type": "code",
   "execution_count": 39,
   "metadata": {
    "collapsed": false
   },
   "outputs": [],
   "source": [
    "gbc = GradientBoostingClassifier(loss='exponential')"
   ]
  },
  {
   "cell_type": "code",
   "execution_count": 40,
   "metadata": {
    "collapsed": false
   },
   "outputs": [
    {
     "data": {
      "text/plain": [
       "GradientBoostingClassifier(init=None, learning_rate=0.1, loss='exponential',\n",
       "              max_depth=3, max_features=None, max_leaf_nodes=None,\n",
       "              min_samples_leaf=1, min_samples_split=2,\n",
       "              min_weight_fraction_leaf=0.0, n_estimators=100,\n",
       "              presort='auto', random_state=None, subsample=1.0, verbose=0,\n",
       "              warm_start=False)"
      ]
     },
     "execution_count": 40,
     "metadata": {},
     "output_type": "execute_result"
    }
   ],
   "source": [
    "gbc.fit(X_train, y_train)"
   ]
  },
  {
   "cell_type": "code",
   "execution_count": 41,
   "metadata": {
    "collapsed": false
   },
   "outputs": [
    {
     "data": {
      "text/plain": [
       "0.61236158963531206"
      ]
     },
     "execution_count": 41,
     "metadata": {},
     "output_type": "execute_result"
    }
   ],
   "source": [
    "log_loss(y_test,gbc.predict_proba(X_test))"
   ]
  },
  {
   "cell_type": "code",
   "execution_count": 43,
   "metadata": {
    "collapsed": false
   },
   "outputs": [],
   "source": [
    "from sklearn.grid_search import GridSearchCV\n",
    "\n",
    "param_grid={\n",
    "    'n_estimators': range(100, 200, 20), \n",
    "    'max_depth': range(3, 8),\n",
    "}\n",
    "\n",
    "grid = GridSearchCV(GradientBoostingClassifier(random_state=42), param_grid=param_grid, scoring='log_loss')"
   ]
  },
  {
   "cell_type": "code",
   "execution_count": 44,
   "metadata": {
    "collapsed": false
   },
   "outputs": [
    {
     "data": {
      "text/plain": [
       "GridSearchCV(cv=None, error_score='raise',\n",
       "       estimator=GradientBoostingClassifier(init=None, learning_rate=0.1, loss='deviance',\n",
       "              max_depth=3, max_features=None, max_leaf_nodes=None,\n",
       "              min_samples_leaf=1, min_samples_split=2,\n",
       "              min_weight_fraction_leaf=0.0, n_estimators=100,\n",
       "              presort='auto', random_state=42, subsample=1.0, verbose=0,\n",
       "              warm_start=False),\n",
       "       fit_params={}, iid=True, n_jobs=1,\n",
       "       param_grid={'n_estimators': [100, 120, 140, 160, 180], 'max_depth': [3, 4, 5, 6, 7]},\n",
       "       pre_dispatch='2*n_jobs', refit=True, scoring='log_loss', verbose=0)"
      ]
     },
     "execution_count": 44,
     "metadata": {},
     "output_type": "execute_result"
    }
   ],
   "source": [
    "grid.fit(X_train, y_train)"
   ]
  },
  {
   "cell_type": "code",
   "execution_count": null,
   "metadata": {
    "collapsed": true
   },
   "outputs": [],
   "source": []
  }
 ],
 "metadata": {
  "kernelspec": {
   "display_name": "Python [Root]",
   "language": "python",
   "name": "Python [Root]"
  },
  "language_info": {
   "codemirror_mode": {
    "name": "ipython",
    "version": 2
   },
   "file_extension": ".py",
   "mimetype": "text/x-python",
   "name": "python",
   "nbconvert_exporter": "python",
   "pygments_lexer": "ipython2",
   "version": "2.7.11"
  }
 },
 "nbformat": 4,
 "nbformat_minor": 0
}
