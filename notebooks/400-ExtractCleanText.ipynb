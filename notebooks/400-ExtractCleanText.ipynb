{
 "cells": [
  {
   "cell_type": "code",
   "execution_count": null,
   "metadata": {
    "collapsed": false
   },
   "outputs": [],
   "source": [
    "import pandas as pd\n",
    "import re"
   ]
  },
  {
   "cell_type": "markdown",
   "metadata": {},
   "source": [
    "## Text extraction from `docx`"
   ]
  },
  {
   "cell_type": "code",
   "execution_count": null,
   "metadata": {
    "collapsed": false
   },
   "outputs": [],
   "source": [
    "import lxml.etree\n",
    "import zipfile\n",
    "\n",
    "def get_text(file_path):\n",
    "\n",
    "    word_zip= zipfile.ZipFile(str(file_path))\n",
    "\n",
    "    all_text = []\n",
    "\n",
    "    with word_zip.open('word/document.xml') as xml_file:\n",
    "        for event, element in lxml.etree.iterparse(xml_file, \n",
    "                                                   tag='{http://schemas.openxmlformats.org/wordprocessingml/2006/main}t'):\n",
    "            all_text.append(element.text)\n",
    "            element.clear()\n",
    "    \n",
    "    return '\\n'.join(all_text)"
   ]
  },
  {
   "cell_type": "code",
   "execution_count": null,
   "metadata": {
    "collapsed": false
   },
   "outputs": [],
   "source": [
    "import pathlib\n",
    "\n",
    "wiki = pathlib.Path(r'C:\\Workspace\\root\\DuckDuckGo\\wiki')\n",
    "\n",
    "docs = []\n",
    "\n",
    "for file_path in wiki.iterdir():\n",
    "    if file_path.suffix == '.docx':\n",
    "        doc = {\n",
    "            'name': file_path.name,\n",
    "            'text': get_text(file_path)\n",
    "        }\n",
    "\n",
    "        docs.append(doc)"
   ]
  },
  {
   "cell_type": "code",
   "execution_count": null,
   "metadata": {
    "collapsed": false
   },
   "outputs": [],
   "source": [
    "len(docs)"
   ]
  },
  {
   "cell_type": "code",
   "execution_count": null,
   "metadata": {
    "collapsed": false
   },
   "outputs": [],
   "source": [
    "df = pd.DataFrame(docs)"
   ]
  },
  {
   "cell_type": "code",
   "execution_count": null,
   "metadata": {
    "collapsed": false
   },
   "outputs": [],
   "source": [
    "# Remove `docx` ext.\n",
    "df['name'] = df.name.apply(lambda name: name.rpartition('.')[0])"
   ]
  },
  {
   "cell_type": "code",
   "execution_count": null,
   "metadata": {
    "collapsed": true
   },
   "outputs": [],
   "source": [
    "templates = re.compile('Template:[^\\n]*?\\n')\n",
    "category = re.compile('Cat[\\n]{0,1}egory:[^\\n]*?\\n')\n",
    "edit = '[\\nedit\\n]'\n",
    "refs = re.compile('\\[\\d+?\\]')\n",
    "other_refs =  re.compile('<ref.*?/>')\n",
    "thumb = re.compile('thumb\\|.*?\\|')\n",
    "\n",
    "def clean_text(syn):\n",
    "    syn = templates.sub('', syn)\n",
    "    syn = category.sub('', syn)\n",
    "    syn = syn.replace(edit, '')\n",
    "    syn = refs.sub('', syn)\n",
    "    syn = other_refs.sub('', syn)\n",
    "    syn = thumb.sub('', syn)\n",
    "    return syn.replace('\\n', ' ')\n",
    "\n",
    "df['text'] = df.text.apply(clean_text)"
   ]
  },
  {
   "cell_type": "code",
   "execution_count": null,
   "metadata": {
    "collapsed": false
   },
   "outputs": [],
   "source": []
  },
  {
   "cell_type": "code",
   "execution_count": null,
   "metadata": {
    "collapsed": false
   },
   "outputs": [],
   "source": [
    "df.to_csv('../data/wiki/wiki.csv', encoding='utf8', index=False)"
   ]
  },
  {
   "cell_type": "code",
   "execution_count": null,
   "metadata": {
    "collapsed": true
   },
   "outputs": [],
   "source": []
  }
 ],
 "metadata": {
  "kernelspec": {
   "display_name": "Python [Root]",
   "language": "python",
   "name": "Python [Root]"
  },
  "language_info": {
   "codemirror_mode": {
    "name": "ipython",
    "version": 2
   },
   "file_extension": ".py",
   "mimetype": "text/x-python",
   "name": "python",
   "nbconvert_exporter": "python",
   "pygments_lexer": "ipython2",
   "version": "2.7.11"
  }
 },
 "nbformat": 4,
 "nbformat_minor": 0
}
