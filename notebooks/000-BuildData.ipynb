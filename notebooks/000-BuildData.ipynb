{
 "cells": [
  {
   "cell_type": "code",
   "execution_count": null,
   "metadata": {
    "collapsed": true
   },
   "outputs": [],
   "source": []
  },
  {
   "cell_type": "markdown",
   "metadata": {},
   "source": [
    "# Welcome to My Version of Brandon’s Pandas Tutorial\n",
    "\n",
    "https://github.com/brandon-rhodes/pycon-pandas-tutorial\n",
    "\n",
    "The first instance of this tutorial was delivered at PyCon 2015 in\n",
    "Montréal, but I hope that many other people will be able to benefit from\n",
    "it over the next few years — both on occasions on which I myself get to\n",
    "deliver it, and also when other instructors are able to do so.\n",
    "\n",
    "If you want to follow along with the tutorial at home, here is the\n",
    "YouTube recording of the 3-hour tutorial at PyCon itself:\n",
    "\n",
    "[![Watch the video tutorial on YouTube](youtube.png)](http://www.youtube.com/watch?v=5JnMutdy6Fw \"Pandas From The Ground Up - PyCon 2015\")\n",
    "\n",
    "https://www.youtube.com/watch?v=5JnMutdy6Fw\n",
    "\n",
    "To make it useful to as many people as possible, I hereby release it\n",
    "under the MIT license (see the accompanying `LICENSE.txt` file) and I\n",
    "have tried to make sure that this repository contains all of the scripts\n",
    "needed to download and set up the data set that we used.\n",
    "\n",
    "## Quick Start\n",
    "\n",
    "If you have both `conda` and `git` on your system (otherwise, read the\n",
    "next section for more detailed instructions):\n",
    "\n",
    "Once you have unpacked the ZIP file, download the following four\n",
    "[IMDB](https://www.imdb.com/) data files and place them in the\n",
    "tutorial’s `build` directory:\n",
    "\n",
    "* ftp://ftp.fu-berlin.de/pub/misc/movies/database/actors.list.gz\n",
    "* ftp://ftp.fu-berlin.de/pub/misc/movies/database/actresses.list.gz\n",
    "* ftp://ftp.fu-berlin.de/pub/misc/movies/database/genres.list.gz\n",
    "* ftp://ftp.fu-berlin.de/pub/misc/movies/database/release-dates.list.gz"
   ]
  },
  {
   "cell_type": "markdown",
   "metadata": {},
   "source": [
    "# Notes"
   ]
  },
  {
   "cell_type": "markdown",
   "metadata": {},
   "source": [
    "## Prolog:\n",
    "\n",
    "There are 4 parts to this workshop:\n",
    "\n",
    "1. Intro to `pandas` and `numpy`\n",
    "2. Exploring the dataset\n",
    "3. Feature engineering\n",
    "4. Builgin a model\n",
    "\n",
    "## Intro\n",
    "- Why are we learining `pandas` and `numpy`? (Learning ML-algorithms is like CS-algorithms. Most of the work is coding!)"
   ]
  },
  {
   "cell_type": "code",
   "execution_count": null,
   "metadata": {
    "collapsed": true
   },
   "outputs": [],
   "source": []
  },
  {
   "cell_type": "code",
   "execution_count": null,
   "metadata": {
    "collapsed": true
   },
   "outputs": [],
   "source": []
  }
 ],
 "metadata": {
  "kernelspec": {
   "display_name": "Python 2",
   "language": "python",
   "name": "python2"
  },
  "language_info": {
   "codemirror_mode": {
    "name": "ipython",
    "version": 2
   },
   "file_extension": ".py",
   "mimetype": "text/x-python",
   "name": "python",
   "nbconvert_exporter": "python",
   "pygments_lexer": "ipython2",
   "version": "2.7.11"
  }
 },
 "nbformat": 4,
 "nbformat_minor": 0
}
